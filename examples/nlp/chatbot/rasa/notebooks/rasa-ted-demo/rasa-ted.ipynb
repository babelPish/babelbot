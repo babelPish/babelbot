{
 "cells": [
  {
   "cell_type": "markdown",
   "metadata": {},
   "source": [
    "# Rasa TED Demo"
   ]
  },
  {
   "cell_type": "markdown",
   "metadata": {},
   "source": [
    "--------------"
   ]
  },
  {
   "cell_type": "code",
   "execution_count": 4,
   "metadata": {},
   "outputs": [],
   "source": [
    "import os"
   ]
  },
  {
   "cell_type": "markdown",
   "metadata": {},
   "source": [
    "--------------"
   ]
  },
  {
   "cell_type": "code",
   "execution_count": 9,
   "metadata": {},
   "outputs": [],
   "source": [
    "from rasa.nlu.training_data import load_data \n",
    "from rasa.nlu.model import Trainer\n",
    "from rasa.nlu import config\n",
    "from rasa.nlu.model import Interpreter"
   ]
  },
  {
   "cell_type": "code",
   "execution_count": 2,
   "metadata": {},
   "outputs": [
    {
     "name": "stdout",
     "output_type": "stream",
     "text": [
      "__init__.py  config.yml       data\t  endpoints.yml  requirements.txt\n",
      "actions.py   credentials.yml  domain.yml  readme.md\n"
     ]
    }
   ],
   "source": [
    "!ls ../../rasa-ted-demo"
   ]
  },
  {
   "cell_type": "code",
   "execution_count": 5,
   "metadata": {},
   "outputs": [],
   "source": [
    "root_dir = '../../rasa-ted-demo'"
   ]
  },
  {
   "cell_type": "code",
   "execution_count": 7,
   "metadata": {},
   "outputs": [],
   "source": [
    "data_path = os.path.abspath(os.path.join(root_dir, 'data/nlu.md'))\n",
    "config_path = os.path.abspath(os.path.join(root_dir, 'config.yml'))\n",
    "model_dir = os.path.abspath(os.path.join(root_dir, 'models'))"
   ]
  },
  {
   "cell_type": "markdown",
   "metadata": {},
   "source": [
    "----------------"
   ]
  },
  {
   "cell_type": "code",
   "execution_count": 10,
   "metadata": {},
   "outputs": [],
   "source": [
    "training_data = load_data(data_path)"
   ]
  },
  {
   "cell_type": "code",
   "execution_count": 11,
   "metadata": {},
   "outputs": [],
   "source": [
    "trainer = Trainer(config.load(config_path))"
   ]
  },
  {
   "cell_type": "code",
   "execution_count": 12,
   "metadata": {},
   "outputs": [
    {
     "name": "stderr",
     "output_type": "stream",
     "text": [
      "\u001b[93m/usr/local/lib/python3.6/dist-packages/rasa/utils/common.py:363: UserWarning: You specified 'DIET' to train entities, but no entities are present in the training data. Skip training of entities.\n",
      "Epochs:   0%|          | 0/100 [00:00<?, ?it/s]/usr/local/lib/python3.6/dist-packages/rasa/utils/tensorflow/model_data.py:386: VisibleDeprecationWarning: Creating an ndarray from ragged nested sequences (which is a list-or-tuple of lists-or-tuples-or ndarrays with different lengths or shapes) is deprecated. If you meant to do this, you must specify 'dtype=object' when creating the ndarray\n",
      "  final_data[k].append(np.concatenate(np.array(v)))\n",
      "Epochs: 100%|██████████| 100/100 [00:10<00:00,  9.56it/s, t_loss=1.269, i_loss=0.133, i_acc=1.000]\n"
     ]
    },
    {
     "data": {
      "text/plain": [
       "<rasa.nlu.model.Interpreter at 0x7fd6b8771400>"
      ]
     },
     "execution_count": 12,
     "metadata": {},
     "output_type": "execute_result"
    }
   ],
   "source": [
    "trainer.train(training_data)"
   ]
  },
  {
   "cell_type": "code",
   "execution_count": 13,
   "metadata": {},
   "outputs": [],
   "source": [
    "model_directory = trainer.persist(model_dir, fixed_model_name=\"current\")"
   ]
  },
  {
   "cell_type": "markdown",
   "metadata": {},
   "source": [
    "----------------"
   ]
  },
  {
   "cell_type": "code",
   "execution_count": 14,
   "metadata": {},
   "outputs": [],
   "source": [
    "interpreter = Interpreter.load(os.path.join(model_dir, 'current'))"
   ]
  },
  {
   "cell_type": "code",
   "execution_count": 15,
   "metadata": {},
   "outputs": [
    {
     "data": {
      "text/plain": [
       "{'intent': {'name': 'start_count', 'confidence': 0.9999994039535522},\n",
       " 'entities': [],\n",
       " 'intent_ranking': [{'name': 'start_count', 'confidence': 0.9999994039535522},\n",
       "  {'name': 'bot_challenge', 'confidence': 4.4161035361867107e-07},\n",
       "  {'name': 'goodbye', 'confidence': 7.065003870820874e-08},\n",
       "  {'name': 'greet', 'confidence': 3.9161669462828286e-08},\n",
       "  {'name': 'confirm', 'confidence': 2.158538237040375e-08}],\n",
       " 'response_selector': {'default': {'response': {'name': None,\n",
       "    'confidence': 0.0},\n",
       "   'ranking': [],\n",
       "   'full_retrieval_intent': None}},\n",
       " 'text': 'count'}"
      ]
     },
     "execution_count": 15,
     "metadata": {},
     "output_type": "execute_result"
    }
   ],
   "source": [
    "text = 'count'\n",
    "interpreter.parse(text)"
   ]
  },
  {
   "cell_type": "markdown",
   "metadata": {},
   "source": [
    "------------------"
   ]
  },
  {
   "cell_type": "code",
   "execution_count": 16,
   "metadata": {},
   "outputs": [],
   "source": [
    "import asyncio"
   ]
  },
  {
   "cell_type": "code",
   "execution_count": 17,
   "metadata": {},
   "outputs": [],
   "source": [
    "from rasa.core import config\n",
    "from rasa.core.agent import Agent"
   ]
  },
  {
   "cell_type": "code",
   "execution_count": 21,
   "metadata": {},
   "outputs": [
    {
     "name": "stdout",
     "output_type": "stream",
     "text": [
      "../../rasa-ted-demo/__init__.py      ../../rasa-ted-demo/domain.yml\n",
      "../../rasa-ted-demo/actions.py\t     ../../rasa-ted-demo/endpoints.yml\n",
      "../../rasa-ted-demo/config.yml\t     ../../rasa-ted-demo/readme.md\n",
      "../../rasa-ted-demo/credentials.yml  ../../rasa-ted-demo/requirements.txt\n",
      "\n",
      "../../rasa-ted-demo/data:\n",
      "nlu.md\tstories.md\n",
      "\n",
      "../../rasa-ted-demo/models:\n",
      "current\n"
     ]
    }
   ],
   "source": [
    "!ls ../../rasa-ted-demo/*"
   ]
  },
  {
   "cell_type": "code",
   "execution_count": 18,
   "metadata": {},
   "outputs": [],
   "source": [
    "root_dir = '../../rasa-ted-demo'"
   ]
  },
  {
   "cell_type": "code",
   "execution_count": 22,
   "metadata": {},
   "outputs": [],
   "source": [
    "domain_config = os.path.abspath(os.path.join(root_dir, 'domain.yml'))\n",
    "policy_config = os.path.abspath(os.path.join(root_dir, 'config.yml'))\n",
    "training_data_file = os.path.abspath(os.path.join(root_dir, 'data/stories.md'))\n",
    "model_dir = os.path.abspath(os.path.join(root_dir, 'models'))\n",
    "policy_fixed_model_name=\"dialogue\""
   ]
  },
  {
   "cell_type": "markdown",
   "metadata": {},
   "source": [
    "------------"
   ]
  },
  {
   "cell_type": "code",
   "execution_count": 23,
   "metadata": {},
   "outputs": [
    {
     "name": "stderr",
     "output_type": "stream",
     "text": [
      "\u001b[93m/usr/local/lib/python3.6/dist-packages/rasa/core/policies/ensemble.py:310: FutureWarning: 'KerasPolicy' is deprecated and will be removed in version 2.0. Use 'TEDPolicy' instead.\n",
      "  policy_object = constr_func(**policy)\n",
      "\u001b[0m"
     ]
    }
   ],
   "source": [
    "policies = config.load(policy_config)"
   ]
  },
  {
   "cell_type": "code",
   "execution_count": 24,
   "metadata": {},
   "outputs": [],
   "source": [
    "agent = Agent(domain_config,\n",
    "              policies=policies)"
   ]
  },
  {
   "cell_type": "code",
   "execution_count": 25,
   "metadata": {},
   "outputs": [
    {
     "name": "stderr",
     "output_type": "stream",
     "text": [
      "Processed Story Blocks: 100%|██████████| 7/7 [00:00<00:00, 288.02it/s, # trackers=1]\n",
      "Processed Story Blocks: 100%|██████████| 7/7 [00:00<00:00, 121.19it/s, # trackers=6]\n",
      "Processed Story Blocks: 100%|██████████| 7/7 [00:00<00:00, 61.71it/s, # trackers=16]\n",
      "Processed Story Blocks: 100%|██████████| 7/7 [00:00<00:00, 63.73it/s, # trackers=17]\n"
     ]
    }
   ],
   "source": [
    "training_data = await agent.load_data(training_data_file)"
   ]
  },
  {
   "cell_type": "code",
   "execution_count": 26,
   "metadata": {},
   "outputs": [
    {
     "name": "stderr",
     "output_type": "stream",
     "text": [
      "Processed trackers: 100%|██████████| 7/7 [00:00<00:00, 18.52it/s, # actions=85]\n",
      "Processed actions: 85it [00:00, 438.48it/s, # examples=85]\n",
      "Processed trackers: 100%|██████████| 265/265 [00:23<00:00, 11.11it/s, # actions=141]\n"
     ]
    },
    {
     "name": "stdout",
     "output_type": "stream",
     "text": [
      "Model: \"sequential\"\n",
      "_________________________________________________________________\n",
      "Layer (type)                 Output Shape              Param #   \n",
      "=================================================================\n",
      "masking (Masking)            (None, 5, 28)             0         \n",
      "_________________________________________________________________\n",
      "lstm (LSTM)                  (None, 32)                7808      \n",
      "_________________________________________________________________\n",
      "dense (Dense)                (None, 23)                759       \n",
      "_________________________________________________________________\n",
      "activation (Activation)      (None, 23)                0         \n",
      "=================================================================\n",
      "Total params: 8,567\n",
      "Trainable params: 8,567\n",
      "Non-trainable params: 0\n",
      "_________________________________________________________________\n",
      "Train on 141 samples\n",
      "Epoch 1/200\n",
      "141/141 [==============================] - 4s 26ms/sample - loss: 3.0733 - accuracy: 0.1489\n",
      "Epoch 2/200\n",
      "141/141 [==============================] - 0s 348us/sample - loss: 2.9800 - accuracy: 0.4113\n",
      "Epoch 3/200\n",
      "141/141 [==============================] - 0s 317us/sample - loss: 2.9036 - accuracy: 0.4752\n",
      "Epoch 4/200\n",
      "141/141 [==============================] - 0s 337us/sample - loss: 2.8139 - accuracy: 0.4752\n",
      "Epoch 5/200\n",
      "141/141 [==============================] - 0s 324us/sample - loss: 2.7201 - accuracy: 0.4752\n",
      "Epoch 6/200\n",
      "141/141 [==============================] - 0s 326us/sample - loss: 2.5988 - accuracy: 0.4752\n",
      "Epoch 7/200\n",
      "141/141 [==============================] - 0s 298us/sample - loss: 2.4621 - accuracy: 0.4752\n",
      "Epoch 8/200\n",
      "141/141 [==============================] - 0s 317us/sample - loss: 2.3140 - accuracy: 0.4752\n",
      "Epoch 9/200\n",
      "141/141 [==============================] - 0s 325us/sample - loss: 2.2119 - accuracy: 0.4752\n",
      "Epoch 10/200\n",
      "141/141 [==============================] - 0s 325us/sample - loss: 2.1222 - accuracy: 0.4752\n",
      "Epoch 11/200\n",
      "141/141 [==============================] - 0s 312us/sample - loss: 2.0754 - accuracy: 0.4752\n",
      "Epoch 12/200\n",
      "141/141 [==============================] - 0s 287us/sample - loss: 2.0446 - accuracy: 0.4752\n",
      "Epoch 13/200\n",
      "141/141 [==============================] - 0s 315us/sample - loss: 2.0058 - accuracy: 0.4752\n",
      "Epoch 14/200\n",
      "141/141 [==============================] - 0s 301us/sample - loss: 1.9953 - accuracy: 0.4752\n",
      "Epoch 15/200\n",
      "141/141 [==============================] - 0s 309us/sample - loss: 1.9825 - accuracy: 0.4752\n",
      "Epoch 16/200\n",
      "141/141 [==============================] - 0s 365us/sample - loss: 1.9801 - accuracy: 0.4752\n",
      "Epoch 17/200\n",
      "141/141 [==============================] - 0s 336us/sample - loss: 1.9741 - accuracy: 0.4752\n",
      "Epoch 18/200\n",
      "141/141 [==============================] - 0s 353us/sample - loss: 1.9419 - accuracy: 0.4752\n",
      "Epoch 19/200\n",
      "141/141 [==============================] - 0s 340us/sample - loss: 1.9284 - accuracy: 0.4752\n",
      "Epoch 20/200\n",
      "141/141 [==============================] - 0s 340us/sample - loss: 1.9197 - accuracy: 0.4752\n",
      "Epoch 21/200\n",
      "141/141 [==============================] - 0s 329us/sample - loss: 1.8966 - accuracy: 0.4752\n",
      "Epoch 22/200\n",
      "141/141 [==============================] - 0s 345us/sample - loss: 1.9108 - accuracy: 0.4752\n",
      "Epoch 23/200\n",
      "141/141 [==============================] - 0s 338us/sample - loss: 1.8954 - accuracy: 0.4752\n",
      "Epoch 24/200\n",
      "141/141 [==============================] - 0s 373us/sample - loss: 1.8659 - accuracy: 0.4752\n",
      "Epoch 25/200\n",
      "141/141 [==============================] - 0s 343us/sample - loss: 1.8830 - accuracy: 0.4752\n",
      "Epoch 26/200\n",
      "141/141 [==============================] - 0s 365us/sample - loss: 1.8416 - accuracy: 0.4752\n",
      "Epoch 27/200\n",
      "141/141 [==============================] - 0s 372us/sample - loss: 1.8471 - accuracy: 0.4752\n",
      "Epoch 28/200\n",
      "141/141 [==============================] - 0s 310us/sample - loss: 1.8273 - accuracy: 0.4752\n",
      "Epoch 29/200\n",
      "141/141 [==============================] - 0s 318us/sample - loss: 1.8258 - accuracy: 0.4752\n",
      "Epoch 30/200\n",
      "141/141 [==============================] - 0s 316us/sample - loss: 1.8119 - accuracy: 0.4752\n",
      "Epoch 31/200\n",
      "141/141 [==============================] - 0s 322us/sample - loss: 1.7876 - accuracy: 0.4823\n",
      "Epoch 32/200\n",
      "141/141 [==============================] - 0s 312us/sample - loss: 1.7965 - accuracy: 0.4823\n",
      "Epoch 33/200\n",
      "141/141 [==============================] - 0s 291us/sample - loss: 1.7660 - accuracy: 0.4823\n",
      "Epoch 34/200\n",
      "141/141 [==============================] - 0s 313us/sample - loss: 1.7678 - accuracy: 0.4823\n",
      "Epoch 35/200\n",
      "141/141 [==============================] - 0s 295us/sample - loss: 1.7692 - accuracy: 0.4894\n",
      "Epoch 36/200\n",
      "141/141 [==============================] - 0s 319us/sample - loss: 1.7656 - accuracy: 0.4823\n",
      "Epoch 37/200\n",
      "141/141 [==============================] - 0s 315us/sample - loss: 1.7435 - accuracy: 0.4823\n",
      "Epoch 38/200\n",
      "141/141 [==============================] - 0s 308us/sample - loss: 1.7352 - accuracy: 0.4823\n",
      "Epoch 39/200\n",
      "141/141 [==============================] - 0s 294us/sample - loss: 1.7211 - accuracy: 0.4823\n",
      "Epoch 40/200\n",
      "141/141 [==============================] - 0s 334us/sample - loss: 1.6950 - accuracy: 0.4894\n",
      "Epoch 41/200\n",
      "141/141 [==============================] - 0s 332us/sample - loss: 1.7117 - accuracy: 0.4823\n",
      "Epoch 42/200\n",
      "141/141 [==============================] - 0s 319us/sample - loss: 1.7113 - accuracy: 0.4823\n",
      "Epoch 43/200\n",
      "141/141 [==============================] - 0s 291us/sample - loss: 1.6790 - accuracy: 0.4894\n",
      "Epoch 44/200\n",
      "141/141 [==============================] - 0s 309us/sample - loss: 1.6811 - accuracy: 0.4823\n",
      "Epoch 45/200\n",
      "141/141 [==============================] - 0s 299us/sample - loss: 1.6582 - accuracy: 0.4894\n",
      "Epoch 46/200\n",
      "141/141 [==============================] - 0s 339us/sample - loss: 1.6471 - accuracy: 0.4894\n",
      "Epoch 47/200\n",
      "141/141 [==============================] - 0s 325us/sample - loss: 1.6333 - accuracy: 0.4894\n",
      "Epoch 48/200\n",
      "141/141 [==============================] - 0s 352us/sample - loss: 1.6206 - accuracy: 0.4894\n",
      "Epoch 49/200\n",
      "141/141 [==============================] - 0s 339us/sample - loss: 1.6197 - accuracy: 0.4823\n",
      "Epoch 50/200\n",
      "141/141 [==============================] - 0s 397us/sample - loss: 1.5880 - accuracy: 0.4894\n",
      "Epoch 51/200\n",
      "141/141 [==============================] - 0s 349us/sample - loss: 1.5829 - accuracy: 0.4894\n",
      "Epoch 52/200\n",
      "141/141 [==============================] - 0s 345us/sample - loss: 1.5676 - accuracy: 0.4894\n",
      "Epoch 53/200\n",
      "141/141 [==============================] - 0s 350us/sample - loss: 1.5487 - accuracy: 0.4894\n",
      "Epoch 54/200\n",
      "141/141 [==============================] - 0s 340us/sample - loss: 1.5394 - accuracy: 0.4965\n",
      "Epoch 55/200\n",
      "141/141 [==============================] - 0s 332us/sample - loss: 1.5385 - accuracy: 0.4965\n",
      "Epoch 56/200\n",
      "141/141 [==============================] - 0s 360us/sample - loss: 1.5273 - accuracy: 0.4965\n",
      "Epoch 57/200\n",
      "141/141 [==============================] - 0s 396us/sample - loss: 1.5193 - accuracy: 0.4965\n",
      "Epoch 58/200\n",
      "141/141 [==============================] - 0s 397us/sample - loss: 1.4968 - accuracy: 0.5035\n",
      "Epoch 59/200\n",
      "141/141 [==============================] - 0s 302us/sample - loss: 1.4900 - accuracy: 0.5106\n",
      "Epoch 60/200\n",
      "141/141 [==============================] - 0s 408us/sample - loss: 1.4489 - accuracy: 0.5177\n",
      "Epoch 61/200\n",
      "141/141 [==============================] - 0s 352us/sample - loss: 1.4412 - accuracy: 0.5248\n",
      "Epoch 62/200\n",
      "141/141 [==============================] - 0s 322us/sample - loss: 1.4813 - accuracy: 0.5319\n",
      "Epoch 63/200\n",
      "141/141 [==============================] - 0s 315us/sample - loss: 1.4356 - accuracy: 0.5461\n",
      "Epoch 64/200\n",
      "141/141 [==============================] - 0s 324us/sample - loss: 1.4053 - accuracy: 0.5674\n",
      "Epoch 65/200\n",
      "141/141 [==============================] - 0s 319us/sample - loss: 1.4162 - accuracy: 0.5957\n",
      "Epoch 66/200\n",
      "141/141 [==============================] - 0s 327us/sample - loss: 1.3750 - accuracy: 0.5745\n",
      "Epoch 67/200\n",
      "141/141 [==============================] - 0s 316us/sample - loss: 1.3573 - accuracy: 0.5887\n",
      "Epoch 68/200\n",
      "141/141 [==============================] - 0s 323us/sample - loss: 1.3840 - accuracy: 0.5816\n",
      "Epoch 69/200\n",
      "141/141 [==============================] - 0s 299us/sample - loss: 1.3502 - accuracy: 0.6099\n",
      "Epoch 70/200\n",
      "141/141 [==============================] - 0s 343us/sample - loss: 1.3065 - accuracy: 0.6525\n",
      "Epoch 71/200\n",
      "141/141 [==============================] - 0s 313us/sample - loss: 1.3016 - accuracy: 0.6454\n",
      "Epoch 72/200\n",
      "141/141 [==============================] - 0s 305us/sample - loss: 1.3135 - accuracy: 0.6170\n",
      "Epoch 73/200\n",
      "141/141 [==============================] - 0s 294us/sample - loss: 1.2770 - accuracy: 0.6667\n",
      "Epoch 74/200\n",
      "141/141 [==============================] - 0s 317us/sample - loss: 1.2680 - accuracy: 0.6738\n",
      "Epoch 75/200\n",
      "141/141 [==============================] - 0s 387us/sample - loss: 1.2610 - accuracy: 0.6383\n",
      "Epoch 76/200\n",
      "141/141 [==============================] - 0s 347us/sample - loss: 1.2285 - accuracy: 0.6525\n",
      "Epoch 77/200\n",
      "141/141 [==============================] - 0s 404us/sample - loss: 1.2585 - accuracy: 0.6241\n",
      "Epoch 78/200\n",
      "141/141 [==============================] - 0s 380us/sample - loss: 1.2426 - accuracy: 0.6454\n",
      "Epoch 79/200\n",
      "141/141 [==============================] - 0s 344us/sample - loss: 1.2219 - accuracy: 0.6525\n",
      "Epoch 80/200\n",
      "141/141 [==============================] - 0s 337us/sample - loss: 1.2054 - accuracy: 0.6454\n",
      "Epoch 81/200\n",
      "141/141 [==============================] - 0s 370us/sample - loss: 1.1791 - accuracy: 0.6738\n",
      "Epoch 82/200\n",
      "141/141 [==============================] - 0s 345us/sample - loss: 1.1770 - accuracy: 0.6809\n",
      "Epoch 83/200\n",
      "141/141 [==============================] - 0s 458us/sample - loss: 1.1549 - accuracy: 0.7092\n",
      "Epoch 84/200\n",
      "141/141 [==============================] - 0s 358us/sample - loss: 1.1320 - accuracy: 0.7021\n",
      "Epoch 85/200\n",
      "141/141 [==============================] - 0s 313us/sample - loss: 1.1295 - accuracy: 0.6879\n",
      "Epoch 86/200\n",
      "141/141 [==============================] - 0s 303us/sample - loss: 1.1172 - accuracy: 0.7021\n",
      "Epoch 87/200\n",
      "141/141 [==============================] - 0s 338us/sample - loss: 1.1139 - accuracy: 0.6950\n",
      "Epoch 88/200\n",
      "141/141 [==============================] - 0s 322us/sample - loss: 1.0955 - accuracy: 0.6950\n",
      "Epoch 89/200\n",
      "141/141 [==============================] - 0s 303us/sample - loss: 1.0786 - accuracy: 0.7092\n",
      "Epoch 90/200\n",
      "141/141 [==============================] - 0s 309us/sample - loss: 1.0887 - accuracy: 0.6950\n",
      "Epoch 91/200\n",
      "141/141 [==============================] - 0s 426us/sample - loss: 1.0453 - accuracy: 0.6950\n",
      "Epoch 92/200\n",
      "141/141 [==============================] - 0s 310us/sample - loss: 1.0694 - accuracy: 0.7021\n",
      "Epoch 93/200\n",
      "141/141 [==============================] - 0s 328us/sample - loss: 1.0629 - accuracy: 0.7092\n",
      "Epoch 94/200\n",
      "141/141 [==============================] - 0s 353us/sample - loss: 1.0525 - accuracy: 0.6950\n",
      "Epoch 95/200\n",
      "141/141 [==============================] - 0s 327us/sample - loss: 1.0715 - accuracy: 0.6950\n",
      "Epoch 96/200\n",
      "141/141 [==============================] - 0s 328us/sample - loss: 1.0219 - accuracy: 0.7092\n",
      "Epoch 97/200\n",
      "141/141 [==============================] - 0s 359us/sample - loss: 1.0115 - accuracy: 0.7021\n",
      "Epoch 98/200\n",
      "141/141 [==============================] - 0s 334us/sample - loss: 1.0384 - accuracy: 0.7092\n",
      "Epoch 99/200\n",
      "141/141 [==============================] - 0s 365us/sample - loss: 1.0362 - accuracy: 0.6738\n",
      "Epoch 100/200\n",
      "141/141 [==============================] - 0s 339us/sample - loss: 1.0039 - accuracy: 0.7021\n",
      "Epoch 101/200\n",
      "141/141 [==============================] - 0s 354us/sample - loss: 1.0002 - accuracy: 0.6950\n",
      "Epoch 102/200\n",
      "141/141 [==============================] - 0s 345us/sample - loss: 0.9431 - accuracy: 0.7447\n",
      "Epoch 103/200\n",
      "141/141 [==============================] - 0s 348us/sample - loss: 0.9769 - accuracy: 0.7234\n",
      "Epoch 104/200\n",
      "141/141 [==============================] - 0s 327us/sample - loss: 0.9868 - accuracy: 0.7447\n",
      "Epoch 105/200\n",
      "141/141 [==============================] - 0s 361us/sample - loss: 0.9779 - accuracy: 0.7234\n",
      "Epoch 106/200\n",
      "141/141 [==============================] - 0s 390us/sample - loss: 0.9518 - accuracy: 0.7305\n",
      "Epoch 107/200\n",
      "141/141 [==============================] - 0s 339us/sample - loss: 0.9578 - accuracy: 0.7163\n",
      "Epoch 108/200\n",
      "141/141 [==============================] - 0s 352us/sample - loss: 0.9552 - accuracy: 0.7447\n",
      "Epoch 109/200\n",
      "141/141 [==============================] - 0s 344us/sample - loss: 0.9373 - accuracy: 0.7305\n",
      "Epoch 110/200\n",
      "141/141 [==============================] - 0s 356us/sample - loss: 0.9392 - accuracy: 0.7447\n",
      "Epoch 111/200\n",
      "141/141 [==============================] - 0s 318us/sample - loss: 0.9581 - accuracy: 0.7305\n",
      "Epoch 112/200\n",
      "141/141 [==============================] - 0s 330us/sample - loss: 0.8964 - accuracy: 0.7730\n",
      "Epoch 113/200\n",
      "141/141 [==============================] - 0s 330us/sample - loss: 0.9169 - accuracy: 0.7163\n",
      "Epoch 114/200\n",
      "141/141 [==============================] - 0s 364us/sample - loss: 0.9190 - accuracy: 0.7447\n",
      "Epoch 115/200\n",
      "141/141 [==============================] - 0s 392us/sample - loss: 0.8730 - accuracy: 0.7660\n",
      "Epoch 116/200\n",
      "141/141 [==============================] - 0s 336us/sample - loss: 0.8808 - accuracy: 0.7872\n",
      "Epoch 117/200\n",
      "141/141 [==============================] - 0s 337us/sample - loss: 0.8976 - accuracy: 0.7730\n",
      "Epoch 118/200\n",
      "141/141 [==============================] - 0s 344us/sample - loss: 0.8571 - accuracy: 0.8014\n",
      "Epoch 119/200\n",
      "141/141 [==============================] - 0s 329us/sample - loss: 0.8726 - accuracy: 0.7801\n",
      "Epoch 120/200\n",
      "141/141 [==============================] - 0s 335us/sample - loss: 0.8701 - accuracy: 0.7518\n",
      "Epoch 121/200\n",
      "141/141 [==============================] - 0s 356us/sample - loss: 0.8987 - accuracy: 0.7376\n",
      "Epoch 122/200\n",
      "141/141 [==============================] - 0s 382us/sample - loss: 0.8415 - accuracy: 0.7801\n",
      "Epoch 123/200\n",
      "141/141 [==============================] - 0s 331us/sample - loss: 0.8784 - accuracy: 0.7447\n",
      "Epoch 124/200\n",
      "141/141 [==============================] - 0s 334us/sample - loss: 0.8372 - accuracy: 0.7801\n",
      "Epoch 125/200\n",
      "141/141 [==============================] - 0s 417us/sample - loss: 0.8644 - accuracy: 0.7660\n",
      "Epoch 126/200\n",
      "141/141 [==============================] - 0s 380us/sample - loss: 0.8040 - accuracy: 0.7801\n",
      "Epoch 127/200\n",
      "141/141 [==============================] - 0s 328us/sample - loss: 0.8620 - accuracy: 0.7518\n",
      "Epoch 128/200\n",
      "141/141 [==============================] - 0s 337us/sample - loss: 0.8126 - accuracy: 0.8014\n",
      "Epoch 129/200\n",
      "141/141 [==============================] - 0s 307us/sample - loss: 0.7818 - accuracy: 0.8085\n",
      "Epoch 130/200\n",
      "141/141 [==============================] - 0s 324us/sample - loss: 0.8005 - accuracy: 0.7943\n",
      "Epoch 131/200\n",
      "141/141 [==============================] - 0s 323us/sample - loss: 0.7526 - accuracy: 0.8085\n",
      "Epoch 132/200\n",
      "141/141 [==============================] - 0s 356us/sample - loss: 0.8057 - accuracy: 0.7872\n",
      "Epoch 133/200\n",
      "141/141 [==============================] - 0s 289us/sample - loss: 0.8100 - accuracy: 0.7872\n",
      "Epoch 134/200\n",
      "141/141 [==============================] - 0s 326us/sample - loss: 0.7858 - accuracy: 0.7730\n",
      "Epoch 135/200\n",
      "141/141 [==============================] - 0s 313us/sample - loss: 0.7945 - accuracy: 0.8014\n",
      "Epoch 136/200\n",
      "141/141 [==============================] - 0s 318us/sample - loss: 0.8042 - accuracy: 0.7872\n",
      "Epoch 137/200\n",
      "141/141 [==============================] - 0s 437us/sample - loss: 0.7894 - accuracy: 0.8227\n",
      "Epoch 138/200\n",
      "141/141 [==============================] - 0s 447us/sample - loss: 0.7600 - accuracy: 0.8085\n",
      "Epoch 139/200\n",
      "141/141 [==============================] - 0s 365us/sample - loss: 0.7404 - accuracy: 0.8440\n",
      "Epoch 140/200\n",
      "141/141 [==============================] - 0s 370us/sample - loss: 0.7859 - accuracy: 0.8298\n",
      "Epoch 141/200\n",
      "141/141 [==============================] - 0s 299us/sample - loss: 0.7485 - accuracy: 0.8227\n",
      "Epoch 142/200\n",
      "141/141 [==============================] - 0s 337us/sample - loss: 0.7139 - accuracy: 0.8511\n",
      "Epoch 143/200\n",
      "141/141 [==============================] - 0s 342us/sample - loss: 0.7337 - accuracy: 0.8156\n",
      "Epoch 144/200\n",
      "141/141 [==============================] - 0s 343us/sample - loss: 0.7234 - accuracy: 0.8298\n",
      "Epoch 145/200\n",
      "141/141 [==============================] - 0s 343us/sample - loss: 0.7148 - accuracy: 0.8085\n",
      "Epoch 146/200\n",
      "141/141 [==============================] - 0s 334us/sample - loss: 0.7010 - accuracy: 0.8298\n",
      "Epoch 147/200\n",
      "141/141 [==============================] - 0s 325us/sample - loss: 0.6634 - accuracy: 0.8440\n",
      "Epoch 148/200\n",
      "141/141 [==============================] - 0s 357us/sample - loss: 0.6713 - accuracy: 0.8156\n",
      "Epoch 149/200\n",
      "141/141 [==============================] - 0s 323us/sample - loss: 0.6990 - accuracy: 0.8014\n",
      "Epoch 150/200\n",
      "141/141 [==============================] - 0s 341us/sample - loss: 0.7170 - accuracy: 0.8369\n",
      "Epoch 151/200\n",
      "141/141 [==============================] - 0s 317us/sample - loss: 0.7147 - accuracy: 0.8227\n",
      "Epoch 152/200\n",
      "141/141 [==============================] - 0s 322us/sample - loss: 0.6658 - accuracy: 0.8014\n",
      "Epoch 153/200\n",
      "141/141 [==============================] - 0s 292us/sample - loss: 0.6386 - accuracy: 0.8369\n",
      "Epoch 154/200\n",
      "141/141 [==============================] - 0s 324us/sample - loss: 0.6972 - accuracy: 0.7730\n",
      "Epoch 155/200\n",
      "141/141 [==============================] - 0s 304us/sample - loss: 0.6895 - accuracy: 0.8156\n",
      "Epoch 156/200\n",
      "141/141 [==============================] - 0s 291us/sample - loss: 0.6545 - accuracy: 0.8723\n",
      "Epoch 157/200\n",
      "141/141 [==============================] - 0s 329us/sample - loss: 0.7195 - accuracy: 0.7801\n",
      "Epoch 158/200\n",
      "141/141 [==============================] - 0s 326us/sample - loss: 0.6594 - accuracy: 0.8582\n",
      "Epoch 159/200\n",
      "141/141 [==============================] - 0s 337us/sample - loss: 0.6528 - accuracy: 0.8440\n",
      "Epoch 160/200\n",
      "141/141 [==============================] - 0s 345us/sample - loss: 0.6489 - accuracy: 0.8440\n",
      "Epoch 161/200\n",
      "141/141 [==============================] - 0s 357us/sample - loss: 0.5846 - accuracy: 0.8652\n",
      "Epoch 162/200\n",
      "141/141 [==============================] - 0s 358us/sample - loss: 0.6097 - accuracy: 0.8369\n",
      "Epoch 163/200\n",
      "141/141 [==============================] - 0s 355us/sample - loss: 0.6029 - accuracy: 0.8582\n",
      "Epoch 164/200\n",
      "141/141 [==============================] - 0s 325us/sample - loss: 0.6435 - accuracy: 0.8298\n",
      "Epoch 165/200\n",
      "141/141 [==============================] - 0s 298us/sample - loss: 0.5987 - accuracy: 0.8440\n",
      "Epoch 166/200\n",
      "141/141 [==============================] - 0s 341us/sample - loss: 0.5841 - accuracy: 0.8582\n",
      "Epoch 167/200\n",
      "141/141 [==============================] - 0s 318us/sample - loss: 0.6451 - accuracy: 0.8227\n",
      "Epoch 168/200\n",
      "141/141 [==============================] - 0s 335us/sample - loss: 0.5675 - accuracy: 0.8723\n",
      "Epoch 169/200\n",
      "141/141 [==============================] - 0s 326us/sample - loss: 0.5593 - accuracy: 0.8511\n",
      "Epoch 170/200\n",
      "141/141 [==============================] - 0s 298us/sample - loss: 0.5809 - accuracy: 0.8369\n",
      "Epoch 171/200\n",
      "141/141 [==============================] - 0s 328us/sample - loss: 0.5415 - accuracy: 0.8582\n",
      "Epoch 172/200\n",
      "141/141 [==============================] - 0s 311us/sample - loss: 0.5259 - accuracy: 0.8723\n",
      "Epoch 173/200\n",
      "141/141 [==============================] - 0s 342us/sample - loss: 0.6374 - accuracy: 0.7943\n",
      "Epoch 174/200\n",
      "141/141 [==============================] - 0s 312us/sample - loss: 0.6099 - accuracy: 0.8440\n",
      "Epoch 175/200\n",
      "141/141 [==============================] - 0s 333us/sample - loss: 0.5594 - accuracy: 0.8582\n",
      "Epoch 176/200\n",
      "141/141 [==============================] - 0s 414us/sample - loss: 0.5391 - accuracy: 0.8794\n",
      "Epoch 177/200\n",
      "141/141 [==============================] - 0s 302us/sample - loss: 0.5908 - accuracy: 0.8369\n",
      "Epoch 178/200\n",
      "141/141 [==============================] - 0s 340us/sample - loss: 0.5385 - accuracy: 0.8794\n",
      "Epoch 179/200\n",
      "141/141 [==============================] - 0s 321us/sample - loss: 0.4950 - accuracy: 0.8723\n",
      "Epoch 180/200\n",
      "141/141 [==============================] - 0s 306us/sample - loss: 0.5532 - accuracy: 0.8440\n",
      "Epoch 181/200\n",
      "141/141 [==============================] - 0s 310us/sample - loss: 0.5280 - accuracy: 0.8511\n",
      "Epoch 182/200\n",
      "141/141 [==============================] - 0s 304us/sample - loss: 0.4753 - accuracy: 0.8723\n",
      "Epoch 183/200\n",
      "141/141 [==============================] - 0s 291us/sample - loss: 0.4567 - accuracy: 0.8936\n",
      "Epoch 184/200\n",
      "141/141 [==============================] - 0s 333us/sample - loss: 0.4868 - accuracy: 0.8936\n",
      "Epoch 185/200\n",
      "141/141 [==============================] - 0s 330us/sample - loss: 0.5227 - accuracy: 0.8582\n",
      "Epoch 186/200\n",
      "141/141 [==============================] - 0s 311us/sample - loss: 0.5329 - accuracy: 0.8369\n",
      "Epoch 187/200\n",
      "141/141 [==============================] - 0s 280us/sample - loss: 0.5332 - accuracy: 0.8369\n",
      "Epoch 188/200\n",
      "141/141 [==============================] - 0s 304us/sample - loss: 0.4958 - accuracy: 0.8936\n",
      "Epoch 189/200\n",
      "141/141 [==============================] - 0s 308us/sample - loss: 0.4783 - accuracy: 0.8794\n",
      "Epoch 190/200\n",
      "141/141 [==============================] - 0s 301us/sample - loss: 0.4838 - accuracy: 0.8511\n",
      "Epoch 191/200\n",
      "141/141 [==============================] - 0s 297us/sample - loss: 0.5188 - accuracy: 0.8511\n",
      "Epoch 192/200\n",
      "141/141 [==============================] - 0s 300us/sample - loss: 0.5018 - accuracy: 0.8652\n",
      "Epoch 193/200\n",
      "141/141 [==============================] - 0s 333us/sample - loss: 0.4391 - accuracy: 0.8865\n",
      "Epoch 194/200\n",
      "141/141 [==============================] - 0s 330us/sample - loss: 0.5121 - accuracy: 0.8511\n",
      "Epoch 195/200\n",
      "141/141 [==============================] - 0s 317us/sample - loss: 0.5179 - accuracy: 0.8511\n",
      "Epoch 196/200\n",
      "141/141 [==============================] - 0s 298us/sample - loss: 0.4881 - accuracy: 0.8511\n",
      "Epoch 197/200\n",
      "141/141 [==============================] - 0s 315us/sample - loss: 0.4159 - accuracy: 0.8723\n",
      "Epoch 198/200\n",
      "141/141 [==============================] - 0s 325us/sample - loss: 0.3968 - accuracy: 0.9078\n",
      "Epoch 199/200\n",
      "141/141 [==============================] - 0s 299us/sample - loss: 0.4400 - accuracy: 0.8652\n",
      "Epoch 200/200\n",
      "141/141 [==============================] - 0s 325us/sample - loss: 0.4755 - accuracy: 0.8865\n"
     ]
    }
   ],
   "source": [
    "agent.train(training_data)"
   ]
  },
  {
   "cell_type": "code",
   "execution_count": 27,
   "metadata": {},
   "outputs": [],
   "source": [
    "agent_model_path = os.path.join(model_dir, policy_fixed_model_name)"
   ]
  },
  {
   "cell_type": "code",
   "execution_count": 28,
   "metadata": {},
   "outputs": [],
   "source": [
    "agent.persist(agent_model_path)"
   ]
  },
  {
   "cell_type": "code",
   "execution_count": 29,
   "metadata": {},
   "outputs": [
    {
     "name": "stdout",
     "output_type": "stream",
     "text": [
      "../../rasa-ted-demo/__init__.py      ../../rasa-ted-demo/domain.yml\n",
      "../../rasa-ted-demo/actions.py\t     ../../rasa-ted-demo/endpoints.yml\n",
      "../../rasa-ted-demo/config.yml\t     ../../rasa-ted-demo/readme.md\n",
      "../../rasa-ted-demo/credentials.yml  ../../rasa-ted-demo/requirements.txt\n",
      "\n",
      "../../rasa-ted-demo/data:\n",
      "nlu.md\tstories.md\n",
      "\n",
      "../../rasa-ted-demo/models:\n",
      "current  dialogue\n"
     ]
    }
   ],
   "source": [
    "!ls ../../rasa-ted-demo/*"
   ]
  },
  {
   "cell_type": "code",
   "execution_count": 36,
   "metadata": {},
   "outputs": [
    {
     "name": "stdout",
     "output_type": "stream",
     "text": [
      "domain.json  metadata.json\t\t policy_1_KerasPolicy\n",
      "domain.yml   policy_0_MemoizationPolicy  policy_2_MappingPolicy\n"
     ]
    }
   ],
   "source": [
    "!ls ../../rasa-ted-demo/models/dialogue/core"
   ]
  },
  {
   "cell_type": "markdown",
   "metadata": {},
   "source": [
    "---------------------"
   ]
  },
  {
   "cell_type": "code",
   "execution_count": 37,
   "metadata": {},
   "outputs": [],
   "source": [
    "from rasa.core.agent import Agent\n",
    "from rasa.core.interpreter import NaturalLanguageInterpreter\n",
    "from rasa.core.utils import EndpointConfig"
   ]
  },
  {
   "cell_type": "code",
   "execution_count": 38,
   "metadata": {},
   "outputs": [],
   "source": [
    "model_directory = os.path.join(model_dir, \"current\")"
   ]
  },
  {
   "cell_type": "code",
   "execution_count": 39,
   "metadata": {},
   "outputs": [],
   "source": [
    "interpreter = NaturalLanguageInterpreter.create(model_directory)"
   ]
  },
  {
   "cell_type": "code",
   "execution_count": 40,
   "metadata": {},
   "outputs": [],
   "source": [
    "action_endpoint = EndpointConfig(url=\"http://localhost:5055/webhook\")"
   ]
  },
  {
   "cell_type": "code",
   "execution_count": 41,
   "metadata": {},
   "outputs": [
    {
     "name": "stderr",
     "output_type": "stream",
     "text": [
      "\u001b[93m/usr/local/lib/python3.6/dist-packages/rasa/core/policies/keras_policy.py:265: FutureWarning: 'KerasPolicy' is deprecated and will be removed in version 2.0. Use 'TEDPolicy' instead.\n",
      "  current_epoch=meta[\"epochs\"],\n",
      "\u001b[0m"
     ]
    }
   ],
   "source": [
    "agent_model_path = os.path.join(model_dir, policy_fixed_model_name)\n",
    "agent = Agent.load(agent_model_path, \n",
    "                   interpreter=interpreter,\n",
    "                   action_endpoint=action_endpoint)"
   ]
  },
  {
   "cell_type": "code",
   "execution_count": 44,
   "metadata": {},
   "outputs": [],
   "source": [
    "rst = await agent.parse_message_using_nlu_interpreter(\"count\")"
   ]
  },
  {
   "cell_type": "code",
   "execution_count": 45,
   "metadata": {},
   "outputs": [
    {
     "data": {
      "text/plain": [
       "{'intent': {'name': 'start_count', 'confidence': 0.9999994039535522},\n",
       " 'entities': [],\n",
       " 'intent_ranking': [{'name': 'start_count', 'confidence': 0.9999994039535522},\n",
       "  {'name': 'bot_challenge', 'confidence': 4.4161035361867107e-07},\n",
       "  {'name': 'goodbye', 'confidence': 7.065003870820874e-08},\n",
       "  {'name': 'greet', 'confidence': 3.9161669462828286e-08},\n",
       "  {'name': 'confirm', 'confidence': 2.158538237040375e-08}],\n",
       " 'response_selector': {'default': {'response': {'name': None,\n",
       "    'confidence': 0.0},\n",
       "   'ranking': [],\n",
       "   'full_retrieval_intent': None}},\n",
       " 'text': 'count'}"
      ]
     },
     "execution_count": 45,
     "metadata": {},
     "output_type": "execute_result"
    }
   ],
   "source": [
    "rst"
   ]
  },
  {
   "cell_type": "code",
   "execution_count": 46,
   "metadata": {},
   "outputs": [],
   "source": [
    "responses = await agent.handle_text(text_message=\"hi\", sender_id='1')"
   ]
  },
  {
   "cell_type": "code",
   "execution_count": 47,
   "metadata": {},
   "outputs": [
    {
     "data": {
      "text/plain": [
       "[{'recipient_id': '1', 'text': 'Hey!'}]"
      ]
     },
     "execution_count": 47,
     "metadata": {},
     "output_type": "execute_result"
    }
   ],
   "source": [
    "responses"
   ]
  },
  {
   "cell_type": "code",
   "execution_count": 48,
   "metadata": {},
   "outputs": [
    {
     "data": {
      "text/plain": [
       "[{'recipient_id': '1', 'text': 'Countdown! ETA 10 🎵'}]"
      ]
     },
     "execution_count": 48,
     "metadata": {},
     "output_type": "execute_result"
    }
   ],
   "source": [
    "responses = await agent.handle_text(text_message=\"count\", sender_id='1')\n",
    "responses"
   ]
  },
  {
   "cell_type": "code",
   "execution_count": 49,
   "metadata": {},
   "outputs": [
    {
     "data": {
      "text/plain": [
       "[{'recipient_id': '1', 'text': 'Countdown! ETA 9 🎵'}]"
      ]
     },
     "execution_count": 49,
     "metadata": {},
     "output_type": "execute_result"
    }
   ],
   "source": [
    "responses = await agent.handle_text(text_message=\"ok\", sender_id='1')\n",
    "responses"
   ]
  },
  {
   "cell_type": "code",
   "execution_count": 50,
   "metadata": {},
   "outputs": [
    {
     "data": {
      "text/plain": [
       "[{'recipient_id': '1', 'text': 'I am a bot, not a human, powered by Rasa.'},\n",
       " {'recipient_id': '1', 'text': 'I am a bot, not a human, powered by Rasa.'},\n",
       " {'recipient_id': '1', 'text': 'Countdown! ETA 7 🎵'}]"
      ]
     },
     "execution_count": 50,
     "metadata": {},
     "output_type": "execute_result"
    }
   ],
   "source": [
    "responses = await agent.handle_text(text_message=\"are you a bot?\", sender_id='1')\n",
    "responses"
   ]
  },
  {
   "cell_type": "code",
   "execution_count": 51,
   "metadata": {},
   "outputs": [
    {
     "data": {
      "text/plain": [
       "[{'recipient_id': '1', 'text': 'I am a bot, not a human, powered by Rasa.'}]"
      ]
     },
     "execution_count": 51,
     "metadata": {},
     "output_type": "execute_result"
    }
   ],
   "source": [
    "responses = await agent.handle_text(text_message=\"ok\", sender_id='1')\n",
    "responses"
   ]
  },
  {
   "cell_type": "code",
   "execution_count": 52,
   "metadata": {},
   "outputs": [
    {
     "data": {
      "text/plain": [
       "[{'recipient_id': '1', 'text': 'Hey!'}]"
      ]
     },
     "execution_count": 52,
     "metadata": {},
     "output_type": "execute_result"
    }
   ],
   "source": [
    "responses = await agent.handle_text(text_message=\"hi\", sender_id='1')\n",
    "responses"
   ]
  },
  {
   "cell_type": "code",
   "execution_count": 53,
   "metadata": {},
   "outputs": [
    {
     "data": {
      "text/plain": [
       "[{'recipient_id': '1', 'text': 'Countdown! ETA 10 🎵'}]"
      ]
     },
     "execution_count": 53,
     "metadata": {},
     "output_type": "execute_result"
    }
   ],
   "source": [
    "responses = await agent.handle_text(text_message=\"ok\", sender_id='1')\n",
    "responses"
   ]
  },
  {
   "cell_type": "code",
   "execution_count": null,
   "metadata": {},
   "outputs": [],
   "source": []
  }
 ],
 "metadata": {
  "kernelspec": {
   "display_name": "Python 3",
   "language": "python",
   "name": "python3"
  },
  "language_info": {
   "codemirror_mode": {
    "name": "ipython",
    "version": 3
   },
   "file_extension": ".py",
   "mimetype": "text/x-python",
   "name": "python",
   "nbconvert_exporter": "python",
   "pygments_lexer": "ipython3",
   "version": "3.6.9"
  }
 },
 "nbformat": 4,
 "nbformat_minor": 4
}
