{
 "cells": [
  {
   "cell_type": "markdown",
   "metadata": {
    "colab_type": "text",
    "id": "9qcVjRXuFgX0"
   },
   "source": [
    "# Chapter 4: Building Chatbots the Hard Way\n",
    "* 싸이그래머X바벨피쉬 / 바벨봇 - Python Chatbot [1]\n",
    "* 김무성\n"
   ]
  },
  {
   "cell_type": "markdown",
   "metadata": {
    "colab_type": "text",
    "id": "OyBBj0AdFgX2"
   },
   "source": [
    "#### 출처\n",
    "* 오리지널 코드 - https://github.com/Apress/building-chatbots-with-python/tree/e84594620087ddde5b12c723b839d1efd605c11a\n",
    "* Rasa 공식문서 - https://rasa.com/docs/"
   ]
  },
  {
   "cell_type": "code",
   "execution_count": 1,
   "metadata": {
    "colab": {
     "base_uri": "https://localhost:8080/",
     "height": 143
    },
    "colab_type": "code",
    "id": "KLcyUlDiFgX4",
    "outputId": "03892c8f-99e9-409e-e4f1-56a5f481fcbc"
   },
   "outputs": [
    {
     "name": "stdout",
     "output_type": "stream",
     "text": [
      "Cloning into 'babelbot'...\n",
      "remote: Enumerating objects: 105, done.\u001b[K\n",
      "remote: Counting objects: 100% (105/105), done.\u001b[K\n",
      "remote: Compressing objects: 100% (81/81), done.\u001b[K\n",
      "remote: Total 157 (delta 27), reused 83 (delta 17), pack-reused 52\u001b[K\n",
      "Receiving objects: 100% (157/157), 9.89 MiB | 18.97 MiB/s, done.\n",
      "Resolving deltas: 100% (32/32), done.\n"
     ]
    }
   ],
   "source": [
    "!git clone https://github.com/babelPish/babelbot"
   ]
  },
  {
   "cell_type": "code",
   "execution_count": 0,
   "metadata": {
    "colab": {},
    "colab_type": "code",
    "id": "8VAqQncpFgX8"
   },
   "outputs": [],
   "source": [
    "import os\n",
    "\n",
    "working_dir = \"babelbot/chatbot/notebooks/04_Building_Chatbots_the_Hard_Way\"\n",
    "os.chdir(working_dir)"
   ]
  },
  {
   "cell_type": "code",
   "execution_count": 2,
   "metadata": {
    "colab": {
     "base_uri": "https://localhost:8080/",
     "height": 89
    },
    "colab_type": "code",
    "id": "yzkFubtzGZQP",
    "outputId": "23a276d2-c4fc-4ace-ac22-1fb9c01e2c60"
   },
   "outputs": [
    {
     "name": "stdout",
     "output_type": "stream",
     "text": [
      "actions.py   endpoints.yml\t   rasa_core.log\ttrain_online.py\n",
      "config.json  horoscope_domain.yml  rasa-nlu.ipynb\n",
      "config.yml   models\t\t   stories.md\n",
      "data\t     rasa\t\t   train_initialize.py\n"
     ]
    }
   ],
   "source": [
    "!ls"
   ]
  },
  {
   "cell_type": "code",
   "execution_count": 3,
   "metadata": {
    "colab": {
     "base_uri": "https://localhost:8080/",
     "height": 161
    },
    "colab_type": "code",
    "id": "0XzsVw8TGi06",
    "outputId": "90872b56-fef9-429b-bcb8-b4a6fe915583"
   },
   "outputs": [
    {
     "name": "stdout",
     "output_type": "stream",
     "text": [
      "models/dialogue:\n",
      "domain.json  policy_0_FallbackPolicy\t policy_2_KerasPolicy\n",
      "domain.yml   policy_1_MemoizationPolicy  policy_metadata.json\n",
      "\n",
      "models/nlu:\n",
      "default      policy_0_FallbackPolicy\t policy_metadata.json\n",
      "domain.json  policy_1_MemoizationPolicy\n",
      "domain.yml   policy_2_KerasPolicy\n"
     ]
    }
   ],
   "source": [
    "!ls models/*"
   ]
  },
  {
   "cell_type": "code",
   "execution_count": 4,
   "metadata": {
    "colab": {
     "base_uri": "https://localhost:8080/",
     "height": 35
    },
    "colab_type": "code",
    "id": "DHTCi9YAGn9x",
    "outputId": "9a782c10-242b-406d-a889-e75cb09aabdb"
   },
   "outputs": [
    {
     "name": "stdout",
     "output_type": "stream",
     "text": [
      "data.json  stories.md\n"
     ]
    }
   ],
   "source": [
    "!ls data"
   ]
  },
  {
   "cell_type": "code",
   "execution_count": 5,
   "metadata": {
    "colab": {
     "base_uri": "https://localhost:8080/",
     "height": 1000
    },
    "colab_type": "code",
    "id": "Y_5lRk-LFySE",
    "outputId": "ddf36b49-f9c5-45b2-f309-5dd084e19575"
   },
   "outputs": [
    {
     "name": "stdout",
     "output_type": "stream",
     "text": [
      "Looking in indexes: https://pypi.org/simple, https://pypi.rasa.com/simple\n",
      "Collecting rasa-x\n",
      "\u001b[?25l  Downloading https://pypi.rasa.com/api/package/rasa-x/rasa-x-0.20.1.tar.gz (1.4MB)\n",
      "\u001b[K     |████████████████████████████████| 1.4MB 35.8MB/s \n",
      "\u001b[?25h  Installing build dependencies ... \u001b[?25l\u001b[?25hdone\n",
      "  Getting requirements to build wheel ... \u001b[?25l\u001b[?25hdone\n",
      "    Preparing wheel metadata ... \u001b[?25l\u001b[?25hdone\n",
      "Collecting apscheduler~=3.5 (from rasa-x)\n",
      "\u001b[?25l  Downloading https://files.pythonhosted.org/packages/09/ff/d5b0e81846cd5e92d02e5f2682b78c73a5d9d61bc1eae32cea5ac15c0d47/APScheduler-3.6.1-py2.py3-none-any.whl (58kB)\n",
      "\u001b[K     |████████████████████████████████| 61kB 4.0MB/s \n",
      "\u001b[?25hCollecting isodate~=0.6.0 (from rasa-x)\n",
      "\u001b[?25l  Downloading https://files.pythonhosted.org/packages/9b/9f/b36f7774ff5ea8e428fdcfc4bb332c39ee5b9362ddd3d40d9516a55221b2/isodate-0.6.0-py2.py3-none-any.whl (45kB)\n",
      "\u001b[K     |████████████████████████████████| 51kB 18.1MB/s \n",
      "\u001b[?25hCollecting pika~=1.0.0 (from rasa-x)\n",
      "\u001b[?25l  Downloading https://files.pythonhosted.org/packages/78/1a/28c98ee8b211be21d4a9f4ef1687c4d36f9302d47fcc28b81f9591abf6d8/pika-1.0.1-py2.py3-none-any.whl (148kB)\n",
      "\u001b[K     |████████████████████████████████| 153kB 11.8MB/s \n",
      "\u001b[?25hCollecting questionary>=1.1.0 (from rasa-x)\n",
      "  Downloading https://files.pythonhosted.org/packages/37/55/2333e851eeb6d7bf52906633e15558c3d6c73c6aa5744dd213f7258a0319/questionary-1.2.1-py3-none-any.whl\n",
      "Collecting alembic~=1.0.10 (from rasa-x)\n",
      "\u001b[?25l  Downloading https://files.pythonhosted.org/packages/7b/8b/0c98c378d93165d9809193f274c3c6e2151120d955b752419c7d43e4d857/alembic-1.0.11.tar.gz (1.0MB)\n",
      "\u001b[K     |████████████████████████████████| 1.0MB 40.5MB/s \n",
      "\u001b[?25hCollecting mixpanel~=4.3 (from rasa-x)\n",
      "  Downloading https://files.pythonhosted.org/packages/26/c0/7f234cafdb19e515c62a17dd8ed27dba782b68a93790af659553f37b4496/mixpanel-4.4.0-py2.py3-none-any.whl\n",
      "Requirement already satisfied: SQLAlchemy~=1.3.0 in /usr/local/lib/python3.6/dist-packages (from rasa-x) (1.3.6)\n",
      "Requirement already satisfied: jsonschema~=2.6.0 in /usr/local/lib/python3.6/dist-packages (from rasa-x) (2.6.0)\n",
      "Collecting aiohttp~=3.5 (from rasa-x)\n",
      "\u001b[?25l  Downloading https://files.pythonhosted.org/packages/0d/5c/f87987f4dc8b2cfcf37c83a814ea4b2aff4d285cbffc0ab08b2b4fa3f584/aiohttp-3.5.4-cp36-cp36m-manylinux1_x86_64.whl (1.2MB)\n",
      "\u001b[K     |████████████████████████████████| 1.2MB 36.3MB/s \n",
      "\u001b[?25hCollecting pyjwt (from rasa-x)\n",
      "  Downloading https://files.pythonhosted.org/packages/87/8b/6a9f14b5f781697e51259d81657e6048fd31a113229cf346880bb7545565/PyJWT-1.7.1-py2.py3-none-any.whl\n",
      "Collecting sanic-cors~=0.9.6 (from rasa-x)\n",
      "  Downloading https://files.pythonhosted.org/packages/0a/7c/157054b5edf28c55812bc878a48493d1abea4e5738dac724cbeeb6bd15a8/Sanic_Cors-0.9.8.post3-py2.py3-none-any.whl\n",
      "Collecting sanic-jwt~=1.3 (from rasa-x)\n",
      "  Downloading https://files.pythonhosted.org/packages/9a/14/451e1e1ad90fd12a3e2bb41dd7acdbee2865012d841f4a5455a82c2d255a/sanic-jwt-1.3.2.tar.gz\n",
      "Collecting rasa~=1.2.0 (from rasa-x)\n",
      "\u001b[?25l  Downloading https://files.pythonhosted.org/packages/e0/4d/ab1052a8d1d159d19113b0b167f9ac617b1399ef1c055a2d652079b8a296/rasa-1.2.3-py3-none-any.whl (469kB)\n",
      "\u001b[K     |████████████████████████████████| 471kB 35.1MB/s \n",
      "\u001b[?25hCollecting requests~=2.22 (from rasa-x)\n",
      "\u001b[?25l  Downloading https://files.pythonhosted.org/packages/51/bd/23c926cd341ea6b7dd0b2a00aba99ae0f828be89d72b2190f27c11d4b7fb/requests-2.22.0-py2.py3-none-any.whl (57kB)\n",
      "\u001b[K     |████████████████████████████████| 61kB 18.3MB/s \n",
      "\u001b[?25hCollecting simplejson~=3.16 (from rasa-x)\n",
      "\u001b[?25l  Downloading https://files.pythonhosted.org/packages/e3/24/c35fb1c1c315fc0fffe61ea00d3f88e85469004713dab488dee4f35b0aff/simplejson-3.16.0.tar.gz (81kB)\n",
      "\u001b[K     |████████████████████████████████| 81kB 21.7MB/s \n",
      "\u001b[?25hCollecting sanic~=19.3.1 (from rasa-x)\n",
      "\u001b[?25l  Downloading https://files.pythonhosted.org/packages/90/11/31382617b33f89df0caca396f104628d256689a58a63c75d3e46663a8c8f/sanic-19.3.1-py3-none-any.whl (60kB)\n",
      "\u001b[K     |████████████████████████████████| 61kB 18.5MB/s \n",
      "\u001b[?25hCollecting setuptools-scm~=3.3 (from rasa-x)\n",
      "  Downloading https://files.pythonhosted.org/packages/1d/70/97966deebaeeda0b81d3cd63ba9f8ec929b838871ed17476de9d8159db3e/setuptools_scm-3.3.3-py2.py3-none-any.whl\n",
      "Collecting python-dateutil~=2.8 (from rasa-x)\n",
      "\u001b[?25l  Downloading https://files.pythonhosted.org/packages/41/17/c62faccbfbd163c7f57f3844689e3a78bae1f403648a6afb1d0866d87fbb/python_dateutil-2.8.0-py2.py3-none-any.whl (226kB)\n",
      "\u001b[K     |████████████████████████████████| 235kB 30.3MB/s \n",
      "\u001b[?25hRequirement already satisfied: six>=1.4.0 in /usr/local/lib/python3.6/dist-packages (from apscheduler~=3.5->rasa-x) (1.12.0)\n",
      "Requirement already satisfied: pytz in /usr/local/lib/python3.6/dist-packages (from apscheduler~=3.5->rasa-x) (2018.9)\n",
      "Requirement already satisfied: setuptools>=0.7 in /usr/local/lib/python3.6/dist-packages (from apscheduler~=3.5->rasa-x) (41.1.0)\n",
      "Requirement already satisfied: tzlocal>=1.2 in /usr/local/lib/python3.6/dist-packages (from apscheduler~=3.5->rasa-x) (1.5.1)\n",
      "Collecting prompt-toolkit~=2.0 (from questionary>=1.1.0->rasa-x)\n",
      "\u001b[?25l  Downloading https://files.pythonhosted.org/packages/f7/a7/9b1dd14ef45345f186ef69d175bdd2491c40ab1dfa4b2b3e4352df719ed7/prompt_toolkit-2.0.9-py3-none-any.whl (337kB)\n",
      "\u001b[K     |████████████████████████████████| 337kB 39.4MB/s \n",
      "\u001b[?25hCollecting Mako (from alembic~=1.0.10->rasa-x)\n",
      "\u001b[?25l  Downloading https://files.pythonhosted.org/packages/b0/3c/8dcd6883d009f7cae0f3157fb53e9afb05a0d3d33b3db1268ec2e6f4a56b/Mako-1.1.0.tar.gz (463kB)\n",
      "\u001b[K     |████████████████████████████████| 471kB 37.1MB/s \n",
      "\u001b[?25hCollecting python-editor>=0.3 (from alembic~=1.0.10->rasa-x)\n",
      "  Downloading https://files.pythonhosted.org/packages/c6/d3/201fc3abe391bbae6606e6f1d598c15d367033332bd54352b12f35513717/python_editor-1.0.4-py3-none-any.whl\n",
      "Collecting multidict<5.0,>=4.0 (from aiohttp~=3.5->rasa-x)\n",
      "\u001b[?25l  Downloading https://files.pythonhosted.org/packages/71/cc/ceb5b8c76e7a23212b9e0353053cc35a9d86c763d852a76d9b941fe81fbc/multidict-4.5.2-cp36-cp36m-manylinux1_x86_64.whl (309kB)\n",
      "\u001b[K     |████████████████████████████████| 317kB 42.2MB/s \n",
      "\u001b[?25hCollecting async-timeout<4.0,>=3.0 (from aiohttp~=3.5->rasa-x)\n",
      "  Downloading https://files.pythonhosted.org/packages/e1/1e/5a4441be21b0726c4464f3f23c8b19628372f606755a9d2e46c187e65ec4/async_timeout-3.0.1-py3-none-any.whl\n",
      "Requirement already satisfied: chardet<4.0,>=2.0 in /usr/local/lib/python3.6/dist-packages (from aiohttp~=3.5->rasa-x) (3.0.4)\n",
      "Requirement already satisfied: attrs>=17.3.0 in /usr/local/lib/python3.6/dist-packages (from aiohttp~=3.5->rasa-x) (19.1.0)\n",
      "Collecting yarl<2.0,>=1.0 (from aiohttp~=3.5->rasa-x)\n",
      "\u001b[?25l  Downloading https://files.pythonhosted.org/packages/fa/c0/9a73968a9f4e4dac8dffb0ba35f932dd7798fe97901f4942c2d38667862c/yarl-1.3.0-cp36-cp36m-manylinux1_x86_64.whl (251kB)\n",
      "\u001b[K     |████████████████████████████████| 256kB 34.5MB/s \n",
      "\u001b[?25hCollecting idna-ssl>=1.0; python_version < \"3.7\" (from aiohttp~=3.5->rasa-x)\n",
      "  Downloading https://files.pythonhosted.org/packages/46/03/07c4894aae38b0de52b52586b24bf189bb83e4ddabfe2e2c8f2419eec6f4/idna-ssl-1.1.0.tar.gz\n",
      "Collecting typing-extensions>=3.6.5; python_version < \"3.7\" (from aiohttp~=3.5->rasa-x)\n",
      "  Downloading https://files.pythonhosted.org/packages/27/aa/bd1442cfb0224da1b671ab334d3b0a4302e4161ea916e28904ff9618d471/typing_extensions-3.7.4-py3-none-any.whl\n",
      "Collecting sanic-plugins-framework>=0.8.2 (from sanic-cors~=0.9.6->rasa-x)\n",
      "  Downloading https://files.pythonhosted.org/packages/ac/a6/258bdd353c22c3ff7f130d1c788f874a88e48d306614d2f622f3bac2576b/Sanic_Plugins_Framework-0.8.2-py2.py3-none-any.whl\n",
      "Requirement already satisfied: boto3~=1.9 in /usr/local/lib/python3.6/dist-packages (from rasa~=1.2.0->rasa-x) (1.9.205)\n",
      "Collecting rocketchat-API~=0.6.0 (from rasa~=1.2.0->rasa-x)\n",
      "  Downloading https://files.pythonhosted.org/packages/e2/36/29d991028e2943b6a12abe12e3114a4cce13872283df7c7b784ee4cb59ed/rocketchat_API-0.6.34-py3-none-any.whl\n",
      "Requirement already satisfied: gevent~=1.4 in /usr/local/lib/python3.6/dist-packages (from rasa~=1.2.0->rasa-x) (1.4.0)\n",
      "Collecting fbmessenger~=6.0 (from rasa~=1.2.0->rasa-x)\n",
      "  Downloading https://files.pythonhosted.org/packages/bd/e9/646684226176782b9e3b7dd5b35d7ecfd1d13cba24ad2e33255079921aab/fbmessenger-6.0.0-py2.py3-none-any.whl\n",
      "Collecting python-telegram-bot~=11.0 (from rasa~=1.2.0->rasa-x)\n",
      "\u001b[?25l  Downloading https://files.pythonhosted.org/packages/84/6c/47932a4041ee76650ad1f45a80e1422077e1e99c08a4d7a61cfbe5393d41/python_telegram_bot-11.1.0-py2.py3-none-any.whl (326kB)\n",
      "\u001b[K     |████████████████████████████████| 327kB 39.8MB/s \n",
      "\u001b[?25hCollecting ruamel.yaml~=0.15.0 (from rasa~=1.2.0->rasa-x)\n",
      "\u001b[?25l  Downloading https://files.pythonhosted.org/packages/e7/9f/83bb34eaf84032b0b54fcc4a6aff1858572d279d65a301c7ae875f523df5/ruamel.yaml-0.15.100-cp36-cp36m-manylinux1_x86_64.whl (656kB)\n",
      "\u001b[K     |████████████████████████████████| 665kB 30.1MB/s \n",
      "\u001b[?25hCollecting mattermostwrapper~=2.0 (from rasa~=1.2.0->rasa-x)\n",
      "  Downloading https://files.pythonhosted.org/packages/93/70/203660597d12788e958dd691aa11c3c29caa075eadb2ce94d2eb53099d1b/mattermostwrapper-2.1-py2.py3-none-any.whl\n",
      "Collecting webexteamssdk~=1.1 (from rasa~=1.2.0->rasa-x)\n",
      "\u001b[?25l  Downloading https://files.pythonhosted.org/packages/30/c6/8e700b876e4cae92721569f579a36d8eee62e296c4813704e258a19f405c/webexteamssdk-1.1.1.tar.gz (48kB)\n",
      "\u001b[K     |████████████████████████████████| 51kB 18.3MB/s \n",
      "\u001b[?25hRequirement already satisfied: numpy~=1.16 in /usr/local/lib/python3.6/dist-packages (from rasa~=1.2.0->rasa-x) (1.16.4)\n",
      "Requirement already satisfied: matplotlib~=3.0 in /usr/local/lib/python3.6/dist-packages (from rasa~=1.2.0->rasa-x) (3.0.3)\n",
      "Collecting fakeredis~=1.0 (from rasa~=1.2.0->rasa-x)\n",
      "  Downloading https://files.pythonhosted.org/packages/eb/77/35d9036794a87f12de587ae426cb74993ab686fb2fcca343d37a51f4bef6/fakeredis-1.0.4-py2.py3-none-any.whl\n",
      "Collecting async-generator~=1.10 (from rasa~=1.2.0->rasa-x)\n",
      "  Downloading https://files.pythonhosted.org/packages/71/52/39d20e03abd0ac9159c162ec24b93fbcaa111e8400308f2465432495ca2b/async_generator-1.10-py3-none-any.whl\n",
      "Collecting slackclient~=1.3 (from rasa~=1.2.0->rasa-x)\n",
      "  Downloading https://files.pythonhosted.org/packages/7c/2f/9b6db4c7686be3dc6b4244eaef4f37226a2ccca1a796516d4adcdfeefe56/slackclient-1.3.2.tar.gz\n",
      "Collecting twilio~=6.0 (from rasa~=1.2.0->rasa-x)\n",
      "\u001b[?25l  Downloading https://files.pythonhosted.org/packages/1f/01/0e06bdbce5aa6e7d698ce4b2e086faf13d00a8dc9a95c64836544710a47f/twilio-6.29.4-py2.py3-none-any.whl (1.0MB)\n",
      "\u001b[K     |████████████████████████████████| 1.0MB 34.9MB/s \n",
      "\u001b[?25hRequirement already satisfied: packaging~=19.0 in /usr/local/lib/python3.6/dist-packages (from rasa~=1.2.0->rasa-x) (19.1)\n",
      "Collecting sklearn-crfsuite~=0.3.6 (from rasa~=1.2.0->rasa-x)\n",
      "  Downloading https://files.pythonhosted.org/packages/25/74/5b7befa513482e6dee1f3dd68171a6c9dfc14c0eaa00f885ffeba54fe9b0/sklearn_crfsuite-0.3.6-py2.py3-none-any.whl\n",
      "Collecting colorhash~=1.0 (from rasa~=1.2.0->rasa-x)\n",
      "  Downloading https://files.pythonhosted.org/packages/0e/e1/50dbc513aa74e99eca4c47f2a8206711f0bec436fdddd95eebaf7eaaa1aa/colorhash-1.0.2-py2.py3-none-any.whl\n",
      "Collecting rasa-sdk~=1.1.0 (from rasa~=1.2.0->rasa-x)\n",
      "  Downloading https://files.pythonhosted.org/packages/b0/3a/9c1aec774050ae404bf3a5d4dc941d9207a120fe37fa16d0f69efa1a6c4a/rasa_sdk-1.1.1-py2.py3-none-any.whl\n",
      "Requirement already satisfied: networkx~=2.3 in /usr/local/lib/python3.6/dist-packages (from rasa~=1.2.0->rasa-x) (2.3)\n",
      "Collecting pydot~=1.4 (from rasa~=1.2.0->rasa-x)\n",
      "  Downloading https://files.pythonhosted.org/packages/33/d1/b1479a770f66d962f545c2101630ce1d5592d90cb4f083d38862e93d16d2/pydot-1.4.1-py2.py3-none-any.whl\n",
      "Requirement already satisfied: scipy~=1.2 in /usr/local/lib/python3.6/dist-packages (from rasa~=1.2.0->rasa-x) (1.3.1)\n",
      "Collecting kafka-python~=1.4 (from rasa~=1.2.0->rasa-x)\n",
      "\u001b[?25l  Downloading https://files.pythonhosted.org/packages/82/39/aebe3ad518513bbb2260dd84ac21e5c30af860cc4c95b32acbd64b9d9d0d/kafka_python-1.4.6-py2.py3-none-any.whl (259kB)\n",
      "\u001b[K     |████████████████████████████████| 266kB 37.8MB/s \n",
      "\u001b[?25hCollecting python-socketio~=4.0 (from rasa~=1.2.0->rasa-x)\n",
      "\u001b[?25l  Downloading https://files.pythonhosted.org/packages/35/b0/22c3f785f23fec5c7a815f47c55d7e7946a67ae2129ff604148e939d3bdb/python_socketio-4.3.1-py2.py3-none-any.whl (49kB)\n",
      "\u001b[K     |████████████████████████████████| 51kB 13.9MB/s \n",
      "\u001b[?25hCollecting coloredlogs~=10.0 (from rasa~=1.2.0->rasa-x)\n",
      "\u001b[?25l  Downloading https://files.pythonhosted.org/packages/08/0f/7877fc42fff0b9d70b6442df62d53b3868d3a6ad1b876bdb54335b30ff23/coloredlogs-10.0-py2.py3-none-any.whl (47kB)\n",
      "\u001b[K     |████████████████████████████████| 51kB 19.1MB/s \n",
      "\u001b[?25hRequirement already satisfied: pymongo~=3.8 in /usr/local/lib/python3.6/dist-packages (from rasa~=1.2.0->rasa-x) (3.8.0)\n",
      "Collecting terminaltables~=3.1 (from rasa~=1.2.0->rasa-x)\n",
      "  Downloading https://files.pythonhosted.org/packages/9b/c4/4a21174f32f8a7e1104798c445dacdc1d4df86f2f26722767034e4de4bff/terminaltables-3.1.0.tar.gz\n",
      "Collecting scikit-learn~=0.20.0 (from rasa~=1.2.0->rasa-x)\n",
      "\u001b[?25l  Downloading https://files.pythonhosted.org/packages/96/5b/5da31a6572dc6b7b2846a7cfcbe2e060a0e6af0e1059a6516965e40371b7/scikit_learn-0.20.4-cp36-cp36m-manylinux1_x86_64.whl (5.4MB)\n",
      "\u001b[K     |████████████████████████████████| 5.4MB 33.1MB/s \n",
      "\u001b[?25hCollecting tensorflow~=1.13.0 (from rasa~=1.2.0->rasa-x)\n",
      "\u001b[?25l  Downloading https://files.pythonhosted.org/packages/db/d3/651f95288a6cd9094f7411cdd90ef12a3d01a268009e0e3cd66b5c8d65bd/tensorflow-1.13.2-cp36-cp36m-manylinux1_x86_64.whl (92.6MB)\n",
      "\u001b[K     |████████████████████████████████| 92.6MB 1.3MB/s \n",
      "\u001b[?25hCollecting colorclass~=2.2 (from rasa~=1.2.0->rasa-x)\n",
      "  Downloading https://files.pythonhosted.org/packages/37/ea/ae8dbb956939d4392e6a7fdef87fda273854da1128edae016c4104240be8/colorclass-2.2.0.tar.gz\n",
      "Requirement already satisfied: tqdm~=4.0 in /usr/local/lib/python3.6/dist-packages (from rasa~=1.2.0->rasa-x) (4.28.1)\n",
      "Collecting jsonpickle~=1.1 (from rasa~=1.2.0->rasa-x)\n",
      "  Downloading https://files.pythonhosted.org/packages/07/07/c157520a3ebd166c8c24c6ae0ecae7c3968eb4653ff0e5af369bb82f004d/jsonpickle-1.2-py2.py3-none-any.whl\n",
      "Collecting pykwalify~=1.7.0 (from rasa~=1.2.0->rasa-x)\n",
      "\u001b[?25l  Downloading https://files.pythonhosted.org/packages/36/9f/612de8ca540bd24d604f544248c4c46e9db76f6ea5eb75fb4244da6ebbf0/pykwalify-1.7.0-py2.py3-none-any.whl (40kB)\n",
      "\u001b[K     |████████████████████████████████| 40kB 12.6MB/s \n",
      "\u001b[?25hCollecting redis~=3.3.5 (from rasa~=1.2.0->rasa-x)\n",
      "\u001b[?25l  Downloading https://files.pythonhosted.org/packages/bd/64/b1e90af9bf0c7f6ef55e46b81ab527b33b785824d65300bb65636534b530/redis-3.3.8-py2.py3-none-any.whl (66kB)\n",
      "\u001b[K     |████████████████████████████████| 71kB 22.9MB/s \n",
      "\u001b[?25hRequirement already satisfied: idna<2.9,>=2.5 in /usr/local/lib/python3.6/dist-packages (from requests~=2.22->rasa-x) (2.8)\n",
      "Requirement already satisfied: urllib3!=1.25.0,!=1.25.1,<1.26,>=1.21.1 in /usr/local/lib/python3.6/dist-packages (from requests~=2.22->rasa-x) (1.24.3)\n",
      "Requirement already satisfied: certifi>=2017.4.17 in /usr/local/lib/python3.6/dist-packages (from requests~=2.22->rasa-x) (2019.6.16)\n",
      "Collecting websockets<7.0,>=6.0 (from sanic~=19.3.1->rasa-x)\n",
      "\u001b[?25l  Downloading https://files.pythonhosted.org/packages/5c/fe/99aeaf97985585baefca8d56125ec828ef5549276324ec319b63a4da686d/websockets-6.0-cp36-cp36m-manylinux1_x86_64.whl (88kB)\n",
      "\u001b[K     |████████████████████████████████| 92kB 24.6MB/s \n",
      "\u001b[?25hCollecting uvloop>=0.5.3; sys_platform != \"win32\" and implementation_name == \"cpython\" (from sanic~=19.3.1->rasa-x)\n",
      "\u001b[?25l  Downloading https://files.pythonhosted.org/packages/04/3d/7225a411742e6e7583f630525b140bb4eab2d3731453f22096c5e75f5b59/uvloop-0.13.0-cp36-cp36m-manylinux2010_x86_64.whl (3.8MB)\n",
      "\u001b[K     |████████████████████████████████| 3.8MB 35.2MB/s \n",
      "\u001b[?25hCollecting httptools>=0.0.10 (from sanic~=19.3.1->rasa-x)\n",
      "\u001b[?25l  Downloading https://files.pythonhosted.org/packages/1b/03/215969db11abe8741e9c266a4cbe803a372bd86dd35fa0084c4df6d4bd00/httptools-0.0.13.tar.gz (104kB)\n",
      "\u001b[K     |████████████████████████████████| 112kB 39.1MB/s \n",
      "\u001b[?25hCollecting ujson>=1.35; sys_platform != \"win32\" and implementation_name == \"cpython\" (from sanic~=19.3.1->rasa-x)\n",
      "\u001b[?25l  Downloading https://files.pythonhosted.org/packages/16/c4/79f3409bc710559015464e5f49b9879430d8f87498ecdc335899732e5377/ujson-1.35.tar.gz (192kB)\n",
      "\u001b[K     |████████████████████████████████| 194kB 39.3MB/s \n",
      "\u001b[?25hCollecting aiofiles>=0.3.0 (from sanic~=19.3.1->rasa-x)\n",
      "  Downloading https://files.pythonhosted.org/packages/cf/f2/a67a23bc0bb61d88f82aa7fb84a2fb5f278becfbdc038c5cbb36c31feaf1/aiofiles-0.4.0-py3-none-any.whl\n",
      "Requirement already satisfied: wcwidth in /usr/local/lib/python3.6/dist-packages (from prompt-toolkit~=2.0->questionary>=1.1.0->rasa-x) (0.1.7)\n",
      "Requirement already satisfied: MarkupSafe>=0.9.2 in /usr/local/lib/python3.6/dist-packages (from Mako->alembic~=1.0.10->rasa-x) (1.1.1)\n",
      "Requirement already satisfied: botocore<1.13.0,>=1.12.205 in /usr/local/lib/python3.6/dist-packages (from boto3~=1.9->rasa~=1.2.0->rasa-x) (1.12.205)\n",
      "Requirement already satisfied: jmespath<1.0.0,>=0.7.1 in /usr/local/lib/python3.6/dist-packages (from boto3~=1.9->rasa~=1.2.0->rasa-x) (0.9.4)\n",
      "Requirement already satisfied: s3transfer<0.3.0,>=0.2.0 in /usr/local/lib/python3.6/dist-packages (from boto3~=1.9->rasa~=1.2.0->rasa-x) (0.2.1)\n",
      "Requirement already satisfied: greenlet>=0.4.14; platform_python_implementation == \"CPython\" in /usr/local/lib/python3.6/dist-packages (from gevent~=1.4->rasa~=1.2.0->rasa-x) (0.4.15)\n",
      "Requirement already satisfied: future>=0.16.0 in /usr/local/lib/python3.6/dist-packages (from python-telegram-bot~=11.0->rasa~=1.2.0->rasa-x) (0.16.0)\n",
      "Collecting cryptography (from python-telegram-bot~=11.0->rasa~=1.2.0->rasa-x)\n",
      "\u001b[?25l  Downloading https://files.pythonhosted.org/packages/97/18/c6557f63a6abde34707196fb2cad1c6dc0dbff25a200d5044922496668a4/cryptography-2.7-cp34-abi3-manylinux1_x86_64.whl (2.3MB)\n",
      "\u001b[K     |████████████████████████████████| 2.3MB 33.8MB/s \n",
      "\u001b[?25hCollecting requests-toolbelt (from webexteamssdk~=1.1->rasa~=1.2.0->rasa-x)\n",
      "\u001b[?25l  Downloading https://files.pythonhosted.org/packages/60/ef/7681134338fc097acef8d9b2f8abe0458e4d87559c689a8c306d0957ece5/requests_toolbelt-0.9.1-py2.py3-none-any.whl (54kB)\n",
      "\u001b[K     |████████████████████████████████| 61kB 20.7MB/s \n",
      "\u001b[?25hRequirement already satisfied: cycler>=0.10 in /usr/local/lib/python3.6/dist-packages (from matplotlib~=3.0->rasa~=1.2.0->rasa-x) (0.10.0)\n",
      "Requirement already satisfied: kiwisolver>=1.0.1 in /usr/local/lib/python3.6/dist-packages (from matplotlib~=3.0->rasa~=1.2.0->rasa-x) (1.1.0)\n",
      "Requirement already satisfied: pyparsing!=2.0.4,!=2.1.2,!=2.1.6,>=2.0.1 in /usr/local/lib/python3.6/dist-packages (from matplotlib~=3.0->rasa~=1.2.0->rasa-x) (2.4.2)\n",
      "Requirement already satisfied: sortedcontainers in /usr/local/lib/python3.6/dist-packages (from fakeredis~=1.0->rasa~=1.2.0->rasa-x) (2.1.0)\n",
      "Collecting websocket-client<0.55.0,>=0.35 (from slackclient~=1.3->rasa~=1.2.0->rasa-x)\n",
      "\u001b[?25l  Downloading https://files.pythonhosted.org/packages/26/2d/f749a5c82f6192d77ed061a38e02001afcba55fe8477336d26a950ab17ce/websocket_client-0.54.0-py2.py3-none-any.whl (200kB)\n",
      "\u001b[K     |████████████████████████████████| 204kB 39.6MB/s \n",
      "\u001b[?25hRequirement already satisfied: pysocks; python_version >= \"3.0\" in /usr/local/lib/python3.6/dist-packages (from twilio~=6.0->rasa~=1.2.0->rasa-x) (1.7.0)\n",
      "Requirement already satisfied: tabulate in /usr/local/lib/python3.6/dist-packages (from sklearn-crfsuite~=0.3.6->rasa~=1.2.0->rasa-x) (0.8.3)\n",
      "Collecting python-crfsuite>=0.8.3 (from sklearn-crfsuite~=0.3.6->rasa~=1.2.0->rasa-x)\n",
      "\u001b[?25l  Downloading https://files.pythonhosted.org/packages/2f/86/cfcd71edca9d25d3d331209a20f6314b6f3f134c29478f90559cee9ce091/python_crfsuite-0.9.6-cp36-cp36m-manylinux1_x86_64.whl (754kB)\n",
      "\u001b[K     |████████████████████████████████| 757kB 41.8MB/s \n",
      "\u001b[?25hCollecting ConfigArgParse~=0.14 (from rasa-sdk~=1.1.0->rasa~=1.2.0->rasa-x)\n",
      "  Downloading https://files.pythonhosted.org/packages/55/ea/f0ade52790bcd687127a302b26c1663bf2e0f23210d5281dbfcd1dfcda28/ConfigArgParse-0.14.0.tar.gz\n",
      "Requirement already satisfied: flask~=1.0 in /usr/local/lib/python3.6/dist-packages (from rasa-sdk~=1.1.0->rasa~=1.2.0->rasa-x) (1.1.1)\n",
      "Collecting flask-cors~=3.0 (from rasa-sdk~=1.1.0->rasa~=1.2.0->rasa-x)\n",
      "  Downloading https://files.pythonhosted.org/packages/78/38/e68b11daa5d613e3a91e4bf3da76c94ac9ee0d9cd515af9c1ab80d36f709/Flask_Cors-3.0.8-py2.py3-none-any.whl\n",
      "Requirement already satisfied: decorator>=4.3.0 in /usr/local/lib/python3.6/dist-packages (from networkx~=2.3->rasa~=1.2.0->rasa-x) (4.4.0)\n",
      "Collecting python-engineio>=3.9.0 (from python-socketio~=4.0->rasa~=1.2.0->rasa-x)\n",
      "\u001b[?25l  Downloading https://files.pythonhosted.org/packages/2b/20/8e3ba16102ae2e245d70d9cb9fa48b076253fdb036dc43eea142294c2897/python_engineio-3.9.3-py2.py3-none-any.whl (119kB)\n",
      "\u001b[K     |████████████████████████████████| 122kB 42.9MB/s \n",
      "\u001b[?25hCollecting humanfriendly>=4.7 (from coloredlogs~=10.0->rasa~=1.2.0->rasa-x)\n",
      "\u001b[?25l  Downloading https://files.pythonhosted.org/packages/90/df/88bff450f333114680698dc4aac7506ff7cab164b794461906de31998665/humanfriendly-4.18-py2.py3-none-any.whl (73kB)\n",
      "\u001b[K     |████████████████████████████████| 81kB 25.1MB/s \n",
      "\u001b[?25hRequirement already satisfied: grpcio>=1.8.6 in /usr/local/lib/python3.6/dist-packages (from tensorflow~=1.13.0->rasa~=1.2.0->rasa-x) (1.15.0)\n",
      "Requirement already satisfied: gast>=0.2.0 in /usr/local/lib/python3.6/dist-packages (from tensorflow~=1.13.0->rasa~=1.2.0->rasa-x) (0.2.2)\n",
      "Requirement already satisfied: keras-preprocessing>=1.0.5 in /usr/local/lib/python3.6/dist-packages (from tensorflow~=1.13.0->rasa~=1.2.0->rasa-x) (1.1.0)\n",
      "Requirement already satisfied: protobuf>=3.6.1 in /usr/local/lib/python3.6/dist-packages (from tensorflow~=1.13.0->rasa~=1.2.0->rasa-x) (3.7.1)\n",
      "Requirement already satisfied: absl-py>=0.1.6 in /usr/local/lib/python3.6/dist-packages (from tensorflow~=1.13.0->rasa~=1.2.0->rasa-x) (0.7.1)\n",
      "Requirement already satisfied: astor>=0.6.0 in /usr/local/lib/python3.6/dist-packages (from tensorflow~=1.13.0->rasa~=1.2.0->rasa-x) (0.8.0)\n",
      "Requirement already satisfied: termcolor>=1.1.0 in /usr/local/lib/python3.6/dist-packages (from tensorflow~=1.13.0->rasa~=1.2.0->rasa-x) (1.1.0)\n",
      "Requirement already satisfied: wheel>=0.26 in /usr/local/lib/python3.6/dist-packages (from tensorflow~=1.13.0->rasa~=1.2.0->rasa-x) (0.33.4)\n",
      "Collecting tensorflow-estimator<1.14.0rc0,>=1.13.0 (from tensorflow~=1.13.0->rasa~=1.2.0->rasa-x)\n",
      "\u001b[?25l  Downloading https://files.pythonhosted.org/packages/bb/48/13f49fc3fa0fdf916aa1419013bb8f2ad09674c275b4046d5ee669a46873/tensorflow_estimator-1.13.0-py2.py3-none-any.whl (367kB)\n",
      "\u001b[K     |████████████████████████████████| 368kB 43.5MB/s \n",
      "\u001b[?25hCollecting tensorboard<1.14.0,>=1.13.0 (from tensorflow~=1.13.0->rasa~=1.2.0->rasa-x)\n",
      "\u001b[?25l  Downloading https://files.pythonhosted.org/packages/0f/39/bdd75b08a6fba41f098b6cb091b9e8c7a80e1b4d679a581a0ccd17b10373/tensorboard-1.13.1-py3-none-any.whl (3.2MB)\n",
      "\u001b[K     |████████████████████████████████| 3.2MB 25.7MB/s \n",
      "\u001b[?25hRequirement already satisfied: keras-applications>=1.0.6 in /usr/local/lib/python3.6/dist-packages (from tensorflow~=1.13.0->rasa~=1.2.0->rasa-x) (1.0.8)\n",
      "Requirement already satisfied: docopt>=0.6.2 in /usr/local/lib/python3.6/dist-packages (from pykwalify~=1.7.0->rasa~=1.2.0->rasa-x) (0.6.2)\n",
      "Requirement already satisfied: PyYAML>=3.11 in /usr/local/lib/python3.6/dist-packages (from pykwalify~=1.7.0->rasa~=1.2.0->rasa-x) (3.13)\n",
      "Requirement already satisfied: docutils<0.15,>=0.10 in /usr/local/lib/python3.6/dist-packages (from botocore<1.13.0,>=1.12.205->boto3~=1.9->rasa~=1.2.0->rasa-x) (0.14)\n",
      "Collecting asn1crypto>=0.21.0 (from cryptography->python-telegram-bot~=11.0->rasa~=1.2.0->rasa-x)\n",
      "\u001b[?25l  Downloading https://files.pythonhosted.org/packages/ea/cd/35485615f45f30a510576f1a56d1e0a7ad7bd8ab5ed7cdc600ef7cd06222/asn1crypto-0.24.0-py2.py3-none-any.whl (101kB)\n",
      "\u001b[K     |████████████████████████████████| 102kB 26.0MB/s \n",
      "\u001b[?25hRequirement already satisfied: cffi!=1.11.3,>=1.8 in /usr/local/lib/python3.6/dist-packages (from cryptography->python-telegram-bot~=11.0->rasa~=1.2.0->rasa-x) (1.12.3)\n",
      "Requirement already satisfied: Werkzeug>=0.15 in /usr/local/lib/python3.6/dist-packages (from flask~=1.0->rasa-sdk~=1.1.0->rasa~=1.2.0->rasa-x) (0.15.5)\n",
      "Requirement already satisfied: itsdangerous>=0.24 in /usr/local/lib/python3.6/dist-packages (from flask~=1.0->rasa-sdk~=1.1.0->rasa~=1.2.0->rasa-x) (1.1.0)\n",
      "Requirement already satisfied: Jinja2>=2.10.1 in /usr/local/lib/python3.6/dist-packages (from flask~=1.0->rasa-sdk~=1.1.0->rasa~=1.2.0->rasa-x) (2.10.1)\n",
      "Requirement already satisfied: click>=5.1 in /usr/local/lib/python3.6/dist-packages (from flask~=1.0->rasa-sdk~=1.1.0->rasa~=1.2.0->rasa-x) (7.0)\n",
      "Collecting mock>=2.0.0 (from tensorflow-estimator<1.14.0rc0,>=1.13.0->tensorflow~=1.13.0->rasa~=1.2.0->rasa-x)\n",
      "  Downloading https://files.pythonhosted.org/packages/05/d2/f94e68be6b17f46d2c353564da56e6fb89ef09faeeff3313a046cb810ca9/mock-3.0.5-py2.py3-none-any.whl\n",
      "Requirement already satisfied: markdown>=2.6.8 in /usr/local/lib/python3.6/dist-packages (from tensorboard<1.14.0,>=1.13.0->tensorflow~=1.13.0->rasa~=1.2.0->rasa-x) (3.1.1)\n",
      "Requirement already satisfied: h5py in /usr/local/lib/python3.6/dist-packages (from keras-applications>=1.0.6->tensorflow~=1.13.0->rasa~=1.2.0->rasa-x) (2.8.0)\n",
      "Requirement already satisfied: pycparser in /usr/local/lib/python3.6/dist-packages (from cffi!=1.11.3,>=1.8->cryptography->python-telegram-bot~=11.0->rasa~=1.2.0->rasa-x) (2.19)\n",
      "Building wheels for collected packages: rasa-x\n",
      "  Building wheel for rasa-x (PEP 517) ... \u001b[?25l\u001b[?25hdone\n",
      "  Created wheel for rasa-x: filename=rasa_x-0.20.1-cp36-none-any.whl size=1403698 sha256=df0ff7997d22cd7eac82e88f69d8d2971b3105e4da3969b63bc5ed0f90924955\n",
      "  Stored in directory: /root/.cache/pip/wheels/2e/18/09/d5c8c8ab96bc6889358493a5c9777a1196b79e32af53dd0f3b\n",
      "Successfully built rasa-x\n",
      "Building wheels for collected packages: alembic, sanic-jwt, simplejson, Mako, idna-ssl, webexteamssdk, slackclient, terminaltables, colorclass, httptools, ujson, ConfigArgParse\n",
      "  Building wheel for alembic (setup.py) ... \u001b[?25l\u001b[?25hdone\n",
      "  Created wheel for alembic: filename=alembic-1.0.11-py2.py3-none-any.whl size=162179 sha256=e6343446cb883ae0baaa2be493a5b9640418a8484a35d3ae768c4675645df9be\n",
      "  Stored in directory: /root/.cache/pip/wheels/8b/65/b2/9837b4422d13e739c3324c428f1b3aa9e3c3df666bb420e4b3\n",
      "  Building wheel for sanic-jwt (setup.py) ... \u001b[?25l\u001b[?25hdone\n",
      "  Created wheel for sanic-jwt: filename=sanic_jwt-1.3.2-cp36-none-any.whl size=21061 sha256=c624b6e854bae7bd75d66e036c2dc556555527939688cec1bbe77fc0794dee09\n",
      "  Stored in directory: /root/.cache/pip/wheels/06/3d/38/77ebbe49463450b981bf2274d2808411ef8de291037ef71afa\n",
      "  Building wheel for simplejson (setup.py) ... \u001b[?25l\u001b[?25hdone\n",
      "  Created wheel for simplejson: filename=simplejson-3.16.0-cp36-cp36m-linux_x86_64.whl size=114016 sha256=d4b7f44694448d7e3ccdb4caa493fabd1d176400f957437dcfc6fbf240c6b75f\n",
      "  Stored in directory: /root/.cache/pip/wheels/5d/1a/1e/0350bb3df3e74215cd91325344cc86c2c691f5306eb4d22c77\n",
      "  Building wheel for Mako (setup.py) ... \u001b[?25l\u001b[?25hdone\n",
      "  Created wheel for Mako: filename=Mako-1.1.0-cp36-none-any.whl size=75361 sha256=b0faee4926e35088130d0942816f5cb07b051c52fd749a9fcb2e75943e75fd03\n",
      "  Stored in directory: /root/.cache/pip/wheels/98/32/7b/a291926643fc1d1e02593e0d9e247c5a866a366b8343b7aa27\n",
      "  Building wheel for idna-ssl (setup.py) ... \u001b[?25l\u001b[?25hdone\n",
      "  Created wheel for idna-ssl: filename=idna_ssl-1.1.0-cp36-none-any.whl size=3161 sha256=cf29d3fbdcccea42607e5eef4c78252066edbfd10d9fd3ffeb9d96613312cc03\n",
      "  Stored in directory: /root/.cache/pip/wheels/d3/00/b3/32d613e19e08a739751dd6bf998cfed277728f8b2127ad4eb7\n",
      "  Building wheel for webexteamssdk (setup.py) ... \u001b[?25l\u001b[?25hdone\n",
      "  Created wheel for webexteamssdk: filename=webexteamssdk-1.1.1-cp36-none-any.whl size=77166 sha256=5b7b89d28cec2cb426976defbeb9344b6ec490fa05b77df1f7733d3e9bbbe8b8\n",
      "  Stored in directory: /root/.cache/pip/wheels/98/09/8a/03b3fcfe0a351b960427e278d87191e9a3065cd2a36b84ab3d\n",
      "  Building wheel for slackclient (setup.py) ... \u001b[?25l\u001b[?25hdone\n",
      "  Created wheel for slackclient: filename=slackclient-1.3.2-py2.py3-none-any.whl size=19228 sha256=fc4ea5b3518e1ed2972d3106b9322e62912f789a066f1720678f90063b2b51dd\n",
      "  Stored in directory: /root/.cache/pip/wheels/3b/d4/92/3458f0e1a3e1a9c8935d3b2db89a75d74d8d45601fedec752f\n",
      "  Building wheel for terminaltables (setup.py) ... \u001b[?25l\u001b[?25hdone\n",
      "  Created wheel for terminaltables: filename=terminaltables-3.1.0-cp36-none-any.whl size=15357 sha256=c343511bc1909abcd450d78b56deb4d72319fae1daf1b6023c33b2fd3b094457\n",
      "  Stored in directory: /root/.cache/pip/wheels/30/6b/50/6c75775b681fb36cdfac7f19799888ef9d8813aff9e379663e\n",
      "  Building wheel for colorclass (setup.py) ... \u001b[?25l\u001b[?25hdone\n",
      "  Created wheel for colorclass: filename=colorclass-2.2.0-cp36-none-any.whl size=19396 sha256=20d8337683e8452e2dcbb3a7989346efa71d938ab54ac1f3cc2e743ec752670b\n",
      "  Stored in directory: /root/.cache/pip/wheels/d1/86/9d/16127127306a92d7fd30267890a5634026c045391979c4c317\n",
      "  Building wheel for httptools (setup.py) ... \u001b[?25l\u001b[?25hdone\n",
      "  Created wheel for httptools: filename=httptools-0.0.13-cp36-cp36m-linux_x86_64.whl size=212538 sha256=1d48df31c0020c5cc3ad77e2c9a508d4d98ca112090e0be2f702a90cec8aacbf\n",
      "  Stored in directory: /root/.cache/pip/wheels/e8/3e/2e/013f99b42efc25cf3589730cf380738e46b1e5edaf2f78d525\n",
      "  Building wheel for ujson (setup.py) ... \u001b[?25l\u001b[?25hdone\n",
      "  Created wheel for ujson: filename=ujson-1.35-cp36-cp36m-linux_x86_64.whl size=68030 sha256=79710671c12d0ad18fefb05f54a1ea0b797776b945984360f02803920922a114\n",
      "  Stored in directory: /root/.cache/pip/wheels/28/77/e4/0311145b9c2e2f01470e744855131f9e34d6919687550f87d1\n",
      "  Building wheel for ConfigArgParse (setup.py) ... \u001b[?25l\u001b[?25hdone\n",
      "  Created wheel for ConfigArgParse: filename=ConfigArgParse-0.14.0-cp36-none-any.whl size=17503 sha256=0f562ca5cd6dcb5012d07af540f30e8a28d8d39262e327ff75d225549b33ed39\n",
      "  Stored in directory: /root/.cache/pip/wheels/aa/9c/ce/7e904dddb8c7595ffbe3409d24455bc5005852850e36011bda\n",
      "Successfully built alembic sanic-jwt simplejson Mako idna-ssl webexteamssdk slackclient terminaltables colorclass httptools ujson ConfigArgParse\n",
      "\u001b[31mERROR: jupyter-console 5.2.0 has requirement prompt-toolkit<2.0.0,>=1.0.0, but you'll have prompt-toolkit 2.0.9 which is incompatible.\u001b[0m\n",
      "\u001b[31mERROR: ipython 5.5.0 has requirement prompt-toolkit<2.0.0,>=1.0.4, but you'll have prompt-toolkit 2.0.9 which is incompatible.\u001b[0m\n",
      "\u001b[31mERROR: google-colab 1.0.0 has requirement requests~=2.21.0, but you'll have requests 2.22.0 which is incompatible.\u001b[0m\n",
      "\u001b[31mERROR: datascience 0.10.6 has requirement folium==0.2.1, but you'll have folium 0.8.3 which is incompatible.\u001b[0m\n",
      "\u001b[31mERROR: albumentations 0.1.12 has requirement imgaug<0.2.7,>=0.2.5, but you'll have imgaug 0.2.9 which is incompatible.\u001b[0m\n",
      "\u001b[31mERROR: rasa-sdk 1.1.1 has requirement future~=0.17, but you'll have future 0.16.0 which is incompatible.\u001b[0m\n",
      "\u001b[31mERROR: rasa 1.2.3 has requirement pytz~=2019.1, but you'll have pytz 2018.9 which is incompatible.\u001b[0m\n",
      "Installing collected packages: apscheduler, isodate, pika, prompt-toolkit, questionary, Mako, python-editor, python-dateutil, alembic, mixpanel, multidict, async-timeout, yarl, idna-ssl, typing-extensions, aiohttp, pyjwt, websockets, uvloop, httptools, ujson, aiofiles, sanic, sanic-plugins-framework, sanic-cors, sanic-jwt, requests, rocketchat-API, fbmessenger, asn1crypto, cryptography, python-telegram-bot, ruamel.yaml, mattermostwrapper, requests-toolbelt, webexteamssdk, redis, fakeredis, async-generator, websocket-client, slackclient, twilio, python-crfsuite, sklearn-crfsuite, colorhash, ConfigArgParse, humanfriendly, coloredlogs, flask-cors, rasa-sdk, pydot, kafka-python, python-engineio, python-socketio, terminaltables, scikit-learn, mock, tensorflow-estimator, tensorboard, tensorflow, simplejson, colorclass, jsonpickle, pykwalify, rasa, setuptools-scm, rasa-x\n",
      "  Found existing installation: prompt-toolkit 1.0.16\n",
      "    Uninstalling prompt-toolkit-1.0.16:\n",
      "      Successfully uninstalled prompt-toolkit-1.0.16\n",
      "  Found existing installation: python-dateutil 2.5.3\n",
      "    Uninstalling python-dateutil-2.5.3:\n",
      "      Successfully uninstalled python-dateutil-2.5.3\n",
      "  Found existing installation: requests 2.21.0\n",
      "    Uninstalling requests-2.21.0:\n",
      "      Successfully uninstalled requests-2.21.0\n",
      "  Found existing installation: pydot 1.3.0\n",
      "    Uninstalling pydot-1.3.0:\n",
      "      Successfully uninstalled pydot-1.3.0\n",
      "  Found existing installation: scikit-learn 0.21.3\n",
      "    Uninstalling scikit-learn-0.21.3:\n",
      "      Successfully uninstalled scikit-learn-0.21.3\n",
      "  Found existing installation: tensorflow-estimator 1.14.0\n",
      "    Uninstalling tensorflow-estimator-1.14.0:\n",
      "      Successfully uninstalled tensorflow-estimator-1.14.0\n",
      "  Found existing installation: tensorboard 1.14.0\n",
      "    Uninstalling tensorboard-1.14.0:\n",
      "      Successfully uninstalled tensorboard-1.14.0\n",
      "  Found existing installation: tensorflow 1.14.0\n",
      "    Uninstalling tensorflow-1.14.0:\n",
      "      Successfully uninstalled tensorflow-1.14.0\n",
      "Successfully installed ConfigArgParse-0.14.0 Mako-1.1.0 aiofiles-0.4.0 aiohttp-3.5.4 alembic-1.0.11 apscheduler-3.6.1 asn1crypto-0.24.0 async-generator-1.10 async-timeout-3.0.1 colorclass-2.2.0 coloredlogs-10.0 colorhash-1.0.2 cryptography-2.7 fakeredis-1.0.4 fbmessenger-6.0.0 flask-cors-3.0.8 httptools-0.0.13 humanfriendly-4.18 idna-ssl-1.1.0 isodate-0.6.0 jsonpickle-1.2 kafka-python-1.4.6 mattermostwrapper-2.1 mixpanel-4.4.0 mock-3.0.5 multidict-4.5.2 pika-1.0.1 prompt-toolkit-2.0.9 pydot-1.4.1 pyjwt-1.7.1 pykwalify-1.7.0 python-crfsuite-0.9.6 python-dateutil-2.8.0 python-editor-1.0.4 python-engineio-3.9.3 python-socketio-4.3.1 python-telegram-bot-11.1.0 questionary-1.2.1 rasa-1.2.3 rasa-sdk-1.1.1 rasa-x-0.20.1 redis-3.3.8 requests-2.22.0 requests-toolbelt-0.9.1 rocketchat-API-0.6.34 ruamel.yaml-0.15.100 sanic-19.3.1 sanic-cors-0.9.8.post3 sanic-jwt-1.3.2 sanic-plugins-framework-0.8.2 scikit-learn-0.20.4 setuptools-scm-3.3.3 simplejson-3.16.0 sklearn-crfsuite-0.3.6 slackclient-1.3.2 tensorboard-1.13.1 tensorflow-1.13.2 tensorflow-estimator-1.13.0 terminaltables-3.1.0 twilio-6.29.4 typing-extensions-3.7.4 ujson-1.35 uvloop-0.13.0 webexteamssdk-1.1.1 websocket-client-0.54.0 websockets-6.0 yarl-1.3.0\n"
     ]
    },
    {
     "data": {
      "application/vnd.colab-display-data+json": {
       "pip_warning": {
        "packages": [
         "dateutil",
         "prompt_toolkit",
         "requests"
        ]
       }
      }
     },
     "metadata": {
      "tags": []
     },
     "output_type": "display_data"
    }
   ],
   "source": [
    "!pip install rasa-x --extra-index-url https://pypi.rasa.com/simple"
   ]
  },
  {
   "cell_type": "code",
   "execution_count": 11,
   "metadata": {
    "colab": {
     "base_uri": "https://localhost:8080/",
     "height": 649
    },
    "colab_type": "code",
    "id": "uqidoy4cG9JB",
    "outputId": "0e56f60e-5cc7-4f95-9e63-85b37c42e357"
   },
   "outputs": [
    {
     "name": "stdout",
     "output_type": "stream",
     "text": [
      "Collecting ipython\n",
      "\u001b[?25l  Downloading https://files.pythonhosted.org/packages/f6/c4/a79582814bdfe92bfca4d286a729304ffdf13f5135132cfcaea13cf1b2b3/ipython-7.7.0-py3-none-any.whl (774kB)\n",
      "\u001b[K     |████████████████████████████████| 778kB 4.8MB/s \n",
      "\u001b[?25hRequirement already satisfied, skipping upgrade: backcall in /usr/local/lib/python3.6/dist-packages (from ipython) (0.1.0)\n",
      "Requirement already satisfied, skipping upgrade: decorator in /usr/local/lib/python3.6/dist-packages (from ipython) (4.4.0)\n",
      "Requirement already satisfied, skipping upgrade: setuptools>=18.5 in /usr/local/lib/python3.6/dist-packages (from ipython) (41.1.0)\n",
      "Requirement already satisfied, skipping upgrade: jedi>=0.10 in /usr/local/lib/python3.6/dist-packages (from ipython) (0.15.1)\n",
      "Requirement already satisfied, skipping upgrade: pygments in /usr/local/lib/python3.6/dist-packages (from ipython) (2.1.3)\n",
      "Requirement already satisfied, skipping upgrade: pexpect; sys_platform != \"win32\" in /usr/local/lib/python3.6/dist-packages (from ipython) (4.7.0)\n",
      "Requirement already satisfied, skipping upgrade: traitlets>=4.2 in /usr/local/lib/python3.6/dist-packages (from ipython) (4.3.2)\n",
      "Requirement already satisfied, skipping upgrade: prompt-toolkit<2.1.0,>=2.0.0 in /usr/local/lib/python3.6/dist-packages (from ipython) (2.0.9)\n",
      "Requirement already satisfied, skipping upgrade: pickleshare in /usr/local/lib/python3.6/dist-packages (from ipython) (0.7.5)\n",
      "Requirement already satisfied, skipping upgrade: parso>=0.5.0 in /usr/local/lib/python3.6/dist-packages (from jedi>=0.10->ipython) (0.5.1)\n",
      "Requirement already satisfied, skipping upgrade: ptyprocess>=0.5 in /usr/local/lib/python3.6/dist-packages (from pexpect; sys_platform != \"win32\"->ipython) (0.6.0)\n",
      "Requirement already satisfied, skipping upgrade: six in /usr/local/lib/python3.6/dist-packages (from traitlets>=4.2->ipython) (1.12.0)\n",
      "Requirement already satisfied, skipping upgrade: ipython-genutils in /usr/local/lib/python3.6/dist-packages (from traitlets>=4.2->ipython) (0.2.0)\n",
      "Requirement already satisfied, skipping upgrade: wcwidth in /usr/local/lib/python3.6/dist-packages (from prompt-toolkit<2.1.0,>=2.0.0->ipython) (0.1.7)\n",
      "\u001b[31mERROR: jupyter-console 5.2.0 has requirement prompt-toolkit<2.0.0,>=1.0.0, but you'll have prompt-toolkit 2.0.9 which is incompatible.\u001b[0m\n",
      "\u001b[31mERROR: google-colab 1.0.0 has requirement ipython~=5.5.0, but you'll have ipython 7.7.0 which is incompatible.\u001b[0m\n",
      "\u001b[31mERROR: google-colab 1.0.0 has requirement requests~=2.21.0, but you'll have requests 2.22.0 which is incompatible.\u001b[0m\n",
      "Installing collected packages: ipython\n",
      "  Found existing installation: ipython 5.5.0\n",
      "    Uninstalling ipython-5.5.0:\n",
      "      Successfully uninstalled ipython-5.5.0\n",
      "Successfully installed ipython-7.7.0\n"
     ]
    },
    {
     "data": {
      "application/vnd.colab-display-data+json": {
       "pip_warning": {
        "packages": [
         "IPython"
        ]
       }
      }
     },
     "metadata": {
      "tags": []
     },
     "output_type": "display_data"
    }
   ],
   "source": [
    "!pip install -U ipython"
   ]
  },
  {
   "cell_type": "code",
   "execution_count": 0,
   "metadata": {
    "colab": {},
    "colab_type": "code",
    "id": "I58pUXK1FgX_"
   },
   "outputs": [],
   "source": [
    "from rasa_nlu.training_data import load_data\n",
    "from rasa_nlu.model import Trainer\n",
    "from rasa_nlu import config\n",
    "\n",
    "from rasa_nlu.model import Interpreter\n",
    "\n",
    "def train_horoscopebot(data_json, config_file, model_dir):\n",
    "    training_data = load_data(data_json)\n",
    "    trainer = Trainer(config.load(config_file))\n",
    "    trainer.train(training_data)\n",
    "    model_directory = trainer.persist(model_dir, fixed_model_name = 'horoscopebot2')\n",
    "\n",
    "\n",
    "def predict_intent(text):\n",
    "    interpreter = Interpreter.load('./models/nlu/default/horoscopebot2')\n",
    "    print(interpreter.parse(text))\n",
    "\n"
   ]
  },
  {
   "cell_type": "code",
   "execution_count": 11,
   "metadata": {
    "colab": {
     "base_uri": "https://localhost:8080/",
     "height": 127
    },
    "colab_type": "code",
    "id": "byrcTWbUFgYC",
    "outputId": "51dc0635-e8f3-4f5e-f9f5-8fc982bacde1"
   },
   "outputs": [
    {
     "name": "stdout",
     "output_type": "stream",
     "text": [
      "Fitting 2 folds for each of 6 candidates, totalling 12 fits\n"
     ]
    },
    {
     "name": "stderr",
     "output_type": "stream",
     "text": [
      "[Parallel(n_jobs=1)]: Using backend SequentialBackend with 1 concurrent workers.\n",
      "[Parallel(n_jobs=1)]: Done  12 out of  12 | elapsed:    0.0s finished\n",
      "/usr/local/lib/python3.6/dist-packages/sklearn/model_selection/_search.py:842: DeprecationWarning: The default of the `iid` parameter will change from True to False in version 0.22 and will be removed in 0.24. This will change numeric results when test-set sizes are unequal.\n",
      "  DeprecationWarning)\n"
     ]
    }
   ],
   "source": [
    "train_horoscopebot('./data/data.json', 'config.json', './models/nlu')"
   ]
  },
  {
   "cell_type": "code",
   "execution_count": 15,
   "metadata": {
    "colab": {
     "base_uri": "https://localhost:8080/",
     "height": 593
    },
    "colab_type": "code",
    "id": "l4BOv-vBFgYG",
    "outputId": "a770e2d2-35a1-48ea-aa25-600dbb4adad6"
   },
   "outputs": [
    {
     "name": "stdout",
     "output_type": "stream",
     "text": [
      "./models/nlu/domain.json  ./models/nlu/policy_metadata.json\n",
      "./models/nlu/domain.yml\n",
      "\n",
      "./models/nlu/default:\n",
      "horoscopebot\n",
      "\n",
      "./models/nlu/horoscopebot:\n",
      "component_3_RegexFeaturizer.pkl\n",
      "component_4_CRFEntityExtractor.pkl\n",
      "component_5_EntitySynonymMapper.json\n",
      "component_6_SklearnIntentClassifier_classifier.pkl\n",
      "component_6_SklearnIntentClassifier_encoder.pkl\n",
      "metadata.json\n",
      "training_data.json\n",
      "\n",
      "./models/nlu/horoscopebot2:\n",
      "component_3_RegexFeaturizer.pkl\n",
      "component_4_CRFEntityExtractor.pkl\n",
      "component_5_EntitySynonymMapper.json\n",
      "component_6_SklearnIntentClassifier_classifier.pkl\n",
      "component_6_SklearnIntentClassifier_encoder.pkl\n",
      "metadata.json\n",
      "training_data.json\n",
      "\n",
      "./models/nlu/policy_0_FallbackPolicy:\n",
      "fallback_policy.json\n",
      "\n",
      "./models/nlu/policy_1_MemoizationPolicy:\n",
      "featurizer.json  memorized_turns.json\n",
      "\n",
      "./models/nlu/policy_2_KerasPolicy:\n",
      "featurizer.json  keras_model.h5  keras_policy.json\n"
     ]
    }
   ],
   "source": [
    "!ls ./models/nlu/*"
   ]
  },
  {
   "cell_type": "code",
   "execution_count": 0,
   "metadata": {
    "colab": {},
    "colab_type": "code",
    "id": "722wYzt_IseY"
   },
   "outputs": [],
   "source": [
    "!cp -r ./models/nlu/horoscopebot2 ./models/nlu/default"
   ]
  },
  {
   "cell_type": "code",
   "execution_count": 17,
   "metadata": {
    "colab": {
     "base_uri": "https://localhost:8080/",
     "height": 55
    },
    "colab_type": "code",
    "id": "SIOuvoGAFgYI",
    "outputId": "9187284f-d3d9-4d6a-c4c3-2ede16b2dd24"
   },
   "outputs": [
    {
     "name": "stdout",
     "output_type": "stream",
     "text": [
      "{'intent': {'name': 'get_horoscope', 'confidence': 0.8458934323944252}, 'entities': [{'start': 84, 'end': 89, 'value': 'virgo', 'entity': 'horoscope_sign', 'confidence': 0.9776436604242684, 'extractor': 'CRFEntityExtractor'}], 'intent_ranking': [{'name': 'get_horoscope', 'confidence': 0.8458934323944252}, {'name': 'subscription', 'confidence': 0.07371838512370518}, {'name': 'greeting', 'confidence': 0.045275033190624016}, {'name': 'dob_intent', 'confidence': 0.03511314929124529}], 'text': 'I am looking for my horoscope for today. I am wondering if you can tell me that for Virgo'}\n"
     ]
    }
   ],
   "source": [
    "predict_intent(\"I am looking for my horoscope for today. I am wondering if you can tell me that for Virgo\")"
   ]
  },
  {
   "cell_type": "code",
   "execution_count": 0,
   "metadata": {
    "colab": {},
    "colab_type": "code",
    "id": "U4jc60TXHgTO"
   },
   "outputs": [],
   "source": []
  },
  {
   "cell_type": "code",
   "execution_count": 18,
   "metadata": {
    "colab": {
     "base_uri": "https://localhost:8080/",
     "height": 73
    },
    "colab_type": "code",
    "id": "pZld5Y6-FgYL",
    "outputId": "182d3672-dbbd-4f97-e848-7bcdf68d63f3"
   },
   "outputs": [
    {
     "name": "stdout",
     "output_type": "stream",
     "text": [
      "{'intent': {'name': 'get_horoscope', 'confidence': 0.5292101963065637}, 'entities': [{'start': 7, 'end': 9, 'value': '15', 'entity': 'DD', 'confidence': 0.5842037705840005, 'extractor': 'CRFEntityExtractor'}, {'start': 10, 'end': 12, 'value': '08', 'entity': 'MM', 'confidence': 0.8802007828058475, 'extractor': 'CRFEntityExtractor'}], 'intent_ranking': [{'name': 'get_horoscope', 'confidence': 0.5292101963065637}, {'name': 'dob_intent', 'confidence': 0.26798058263684965}, {'name': 'subscription', 'confidence': 0.13826015944710116}, {'name': 'greeting', 'confidence': 0.0645490616094852}], 'text': 'dob is 15-08'}\n",
      "{'intent': {'name': 'get_horoscope', 'confidence': 0.8464817109267685}, 'entities': [{'start': 0, 'end': 9, 'value': 'capricorn', 'entity': 'horoscope_sign', 'confidence': 0.8700039373678512, 'extractor': 'CRFEntityExtractor'}], 'intent_ranking': [{'name': 'get_horoscope', 'confidence': 0.8464817109267685}, {'name': 'greeting', 'confidence': 0.08260574048915985}, {'name': 'subscription', 'confidence': 0.04803104620559576}, {'name': 'dob_intent', 'confidence': 0.022881502378475943}], 'text': 'Capricorn'}\n"
     ]
    }
   ],
   "source": [
    "predict_intent(\"dob is 15-08\")\n",
    "predict_intent(\"Capricorn\")"
   ]
  },
  {
   "cell_type": "code",
   "execution_count": 19,
   "metadata": {
    "colab": {
     "base_uri": "https://localhost:8080/",
     "height": 73
    },
    "colab_type": "code",
    "id": "rVGipY-RFgYN",
    "outputId": "8c0ef28b-a1a7-477f-db20-bc73a1e95ffe"
   },
   "outputs": [
    {
     "name": "stdout",
     "output_type": "stream",
     "text": [
      "{'intent': {'name': 'subscription', 'confidence': 0.804948434112638}, 'entities': [{'start': 0, 'end': 11, 'value': 'False', 'entity': 'subscribe', 'confidence': 0.8837177393732457, 'extractor': 'CRFEntityExtractor', 'processors': ['EntitySynonymMapper']}], 'intent_ranking': [{'name': 'subscription', 'confidence': 0.804948434112638}, {'name': 'get_horoscope', 'confidence': 0.11133680951975217}, {'name': 'greeting', 'confidence': 0.04319278517879318}, {'name': 'dob_intent', 'confidence': 0.040521971188816855}], 'text': 'unsubscribe me'}\n",
      "{'intent': {'name': 'greeting', 'confidence': 0.7658972490106764}, 'entities': [], 'intent_ranking': [{'name': 'greeting', 'confidence': 0.7658972490106764}, {'name': 'get_horoscope', 'confidence': 0.13114019036978286}, {'name': 'subscription', 'confidence': 0.0791228150094386}, {'name': 'dob_intent', 'confidence': 0.023839745610102072}], 'text': 'Hi'}\n"
     ]
    }
   ],
   "source": [
    "predict_intent(\"unsubscribe me\")\n",
    "predict_intent(\"Hi\")"
   ]
  },
  {
   "cell_type": "code",
   "execution_count": 0,
   "metadata": {
    "colab": {},
    "colab_type": "code",
    "id": "DEo-dQpfFgYQ"
   },
   "outputs": [],
   "source": []
  },
  {
   "cell_type": "code",
   "execution_count": 0,
   "metadata": {
    "colab": {},
    "colab_type": "code",
    "id": "hyT8C6L6FgYS"
   },
   "outputs": [],
   "source": []
  },
  {
   "cell_type": "code",
   "execution_count": 0,
   "metadata": {
    "colab": {},
    "colab_type": "code",
    "id": "-8aJdCx2FgYX"
   },
   "outputs": [],
   "source": [
    "# import rasa_core\n",
    "# !python -m rasa_core.run --core ./models/nlu --endpoints endpoints.yml"
   ]
  },
  {
   "cell_type": "code",
   "execution_count": 0,
   "metadata": {
    "colab": {},
    "colab_type": "code",
    "id": "k7tunY3vFgYZ"
   },
   "outputs": [],
   "source": [
    "import requests\n",
    "base_url = \"http://horoscope-api.herokuapp.com/horoscope/{day}/{sign}\"\n",
    "url = base_url.format(**{'day': \"today\", 'sign': 'capricorn'})\n",
    "#http://horoscope-api.herokuapp.com/horoscope/today/capricorn\n",
    "res = requests.get(url)\n",
    "todays_horoscope = res.json()['horoscope']\n",
    "response = \"Your today's horoscope:\\n{}\".format(todays_horoscope)"
   ]
  },
  {
   "cell_type": "code",
   "execution_count": 21,
   "metadata": {
    "colab": {
     "base_uri": "https://localhost:8080/",
     "height": 55
    },
    "colab_type": "code",
    "id": "rkJc8HqVFgYb",
    "outputId": "197f72fc-45f2-47ee-d303-6c18be6337f6"
   },
   "outputs": [
    {
     "data": {
      "text/plain": [
       "\"Your today's horoscope:\\nThe journey from defeat to success is driven by optimism. You will be very optimistic today —about your work, future and everything that can lead you to success, says Ganesha. You will also be very careful while dealing with day-to-day work, and will capitalise on every opportunity that can get you a step closer to your goals. Determination and good luck is all you need to realise your dreams; you will have both today.\""
      ]
     },
     "execution_count": 21,
     "metadata": {
      "tags": []
     },
     "output_type": "execute_result"
    }
   ],
   "source": [
    "response"
   ]
  },
  {
   "cell_type": "code",
   "execution_count": 0,
   "metadata": {
    "colab": {},
    "colab_type": "code",
    "id": "xFn2W_d2FgYd"
   },
   "outputs": [],
   "source": []
  }
 ],
 "metadata": {
  "colab": {
   "name": "rasa-nlu.ipynb",
   "provenance": [],
   "version": "0.3.2"
  },
  "kernelspec": {
   "display_name": "Python 3",
   "language": "python",
   "name": "python3"
  },
  "language_info": {
   "codemirror_mode": {
    "name": "ipython",
    "version": 3
   },
   "file_extension": ".py",
   "mimetype": "text/x-python",
   "name": "python",
   "nbconvert_exporter": "python",
   "pygments_lexer": "ipython3",
   "version": "3.6.8"
  }
 },
 "nbformat": 4,
 "nbformat_minor": 1
}
