{
 "cells": [
  {
   "cell_type": "markdown",
   "metadata": {},
   "source": [
    "# 02.Approach/Avoidance"
   ]
  },
  {
   "cell_type": "markdown",
   "metadata": {},
   "source": [
    "* 싸이그래머X바벨피쉬 / 바벨봇 - 성격심리학 [1]\n",
    "* 김무성"
   ]
  },
  {
   "cell_type": "markdown",
   "metadata": {},
   "source": [
    "# Contents\n",
    "* 1 Basics of Approach/Avoidance—Behavior and Brain  \n",
    "    - 1.1 Positive and Negative Goals\n",
    "    - 1.2 Valuation versus Motivation \n",
    "    - 1.3 Goal Interactions, Gradients, and Goal Con ict \n",
    "    - 1.4 Hierarchical Control \n",
    "    - 1.5 From System Architecture to Neuroimaging \n",
    "* 2 State Neuroimaging of Approach, Avoidance, and Goal Conflict\n",
    "    - 2.1 State Neuroimaging of Approach/Reward\n",
    "    - 2.2 State Neuroimaging of Avoidance/Punishment \n",
    "    - 2.3 State Neuroimaging of Goal Conflict\n",
    "    - 2.4 “A Link between the Systems”—State Neuroimaging of the Insula\n",
    "* 3 Trait Neuroimaging of Approach, Avoidance, and Goal Conflict \n",
    "    - 3.1 Neuroimaging and Approach Traits\n",
    "    - 3.2 Neuroimaging and Avoidance and Goal Conflict Traits\n",
    "    - 3.3 Future Directions for Trait Research\n",
    "* 4 From Basics to States and Traits: Assessing Approach, Avoidance, and Goal Conflict"
   ]
  },
  {
   "cell_type": "markdown",
   "metadata": {},
   "source": [
    "# 1. Basics of Approach/Avoidance—Behavior and Brain\n",
    "* 1.1 Positive and Negative Goals\n",
    "* 1.2 Valuation versus Motivation\n",
    "* 1.3 Goal Interactions, Gradients, and Goal Con ict\n",
    "* 1.4 Hierarchical Control\n",
    "* 1.5 From System Architecture to Neuroimaging"
   ]
  },
  {
   "cell_type": "markdown",
   "metadata": {},
   "source": [
    "Approach and avoidance behaviors are fundamental to survival. \n",
    "* As such, they depend on phylogenetically old systems with many conserved features. \n",
    "    - For this reason, the basic human brain systems for approach and avoidance have much in common with those of other species. \n",
    "\n",
    "<font color=\"red\">Through study, we know more about the neurobiology of these systems and related traits than we do about most others, and this has translated into progress in human neuroimaging research</font>."
   ]
  },
  {
   "cell_type": "markdown",
   "metadata": {},
   "source": [
    "#### personality traits"
   ]
  },
  {
   "cell_type": "markdown",
   "metadata": {},
   "source": [
    "Importantly, we define personality traits in terms of longer-term stabilities in patterns of states.\n",
    "* That is, the level of a trait reflects the likelihood of being in a particular type of state, given a particular set of eliciting stimuli.\n",
    "    - The activation of approach and avoidance systems in any given situation requires careful long-term control of its precise intensity for any given input, and \n",
    "    - this long-term trait control of levels of activation is influenced by \n",
    "        - genes, \n",
    "        - developmental processes, and \n",
    "        - life events\n",
    "* These two systems and their associated traits can be seen \n",
    "    - as <font color=\"red\">providing a foundation for the more complex processes</font> \n",
    "        - from which mind and personality emerge."
   ]
  },
  {
   "cell_type": "markdown",
   "metadata": {},
   "source": [
    "#### neuroimaging"
   ]
  },
  {
   "cell_type": "markdown",
   "metadata": {},
   "source": [
    "* Both the specific states that result from the activation of approach and avoidance systems and the longer-term sensitivities that tune these activations to match current functional requirements <font color=\"red\">can be assessed indirectly through many techniques</font>, including \n",
    "    - self-report and \n",
    "    - behavioral data. \n",
    "* But <font color=\"red\">increasingly the more direct measurements of neuroimaging</font> are <font color=\"blue\">affording new insights</font>.\n",
    "* Detailed analysis of neuroimaging specific aspects of approach/avoidance systems is provided in chapters 3, 5 and 6 of the book.\n",
    "* <font color=\"red\">Here, we provide a more general overview</font> of the fundamental nature of approach and avoidance, \n",
    "    - the systems that control them, \n",
    "        - details of a third system that \n",
    "            - resolves conflicts between \n",
    "                - goals, and \n",
    "                - the range of resultant states and \n",
    "                - traits \n",
    "                    - that should be open to analysis by neuroimaging."
   ]
  },
  {
   "cell_type": "markdown",
   "metadata": {},
   "source": [
    "#### active avoidance VS passive avoidance"
   ]
  },
  {
   "cell_type": "markdown",
   "metadata": {},
   "source": [
    "* It is important to note that within this chapter, we will use the simple term “avoidance” to refer to \n",
    "    - <font color=\"red\">active avoidance</font> \n",
    "        - (often termed withdrawal) and \n",
    "* the terms \n",
    "    - “goal conflict processing” and \n",
    "    - “behavioral inhibition” to refer to \n",
    "        - <font color=\"red\">passive avoidance</font>. \n",
    "* This is an important functional distinction,\n",
    "    - as these two forms of avoidance \n",
    "        - are mediated by \n",
    "            - different, and\n",
    "            - partially opposing, systems of behavior regulation"
   ]
  },
  {
   "cell_type": "markdown",
   "metadata": {},
   "source": [
    "#### goal-directed behavior VS object-specific VS specific defensive"
   ]
  },
  {
   "cell_type": "markdown",
   "metadata": {},
   "source": [
    "It is important to distinguish more general, \n",
    "* positively motivated, <font color=\"red\">goal-directed, behavior</font> from \n",
    "* <font color=\"red\">object-specific consummatory behaviors</font> \n",
    "    - (e.g., eating, drinking, and mating). \n",
    "* <font color=\"red\">specific defensive behaviors</font>\n",
    "    - Likewise, direct or very close contacts with specific affectively negative objects require specific defensive behaviors \n",
    "        - (e.g., attacking an enemy or avoiding contact with fluids from an Ebola corpse). "
   ]
  },
  {
   "cell_type": "markdown",
   "metadata": {},
   "source": [
    "## 1.1 Positive and Negative Goals"
   ]
  },
  {
   "cell_type": "markdown",
   "metadata": {},
   "source": [
    "#### goal representations"
   ]
  },
  {
   "cell_type": "markdown",
   "metadata": {},
   "source": [
    "An important concept in dealing with mammalian approach and avoidance systems is the idea that they process goal representations. \n",
    "* The nature of this internal representation needs some explanation and should be kept completely separate from the “goals” that \n",
    "    - people often attribute to behaviors in terms of \n",
    "        - external function \n",
    "            - (obtaining the food at the end of the runway) or \n",
    "        - evolutionary explanations (achieving survival)."
   ]
  },
  {
   "cell_type": "markdown",
   "metadata": {},
   "source": [
    "#### gradients"
   ]
  },
  {
   "cell_type": "markdown",
   "metadata": {},
   "source": [
    "The simplest approach behaviors can be controlled by the detection of gradients rather than by goal representations.\n",
    "* A bacterium will approach food through the detection of, for example, chemical gradients in its immediate environment."
   ]
  },
  {
   "cell_type": "markdown",
   "metadata": {},
   "source": [
    "<img src=\"figures/cap2.1.png\" width=600 />"
   ]
  },
  {
   "cell_type": "markdown",
   "metadata": {},
   "source": [
    "#### taxes"
   ]
  },
  {
   "cell_type": "markdown",
   "metadata": {},
   "source": [
    "These kinds of movement, controlled by a local gradient, are called “taxes”(pronounced tack-seize). \n",
    "* Taxes are often taken to involve a reaction to only very simple stimulus aspects—so that light intensity (as in Figure 1) would be included but visual stimuli that depend on form would not."
   ]
  },
  {
   "cell_type": "markdown",
   "metadata": {},
   "source": [
    "#### goal"
   ]
  },
  {
   "cell_type": "markdown",
   "metadata": {},
   "source": [
    "So, what is a goal for an organism? What kind of internal representation is a goal?\n",
    "* Imagine you are a hungry rat and you have just been placed in a T maze by an experimenter. \n",
    "    - If you are hungry and you know from previous experience that there is food and it is at the end of one arm, then that particular food-bearing arm will be a goal for you.\n",
    "\n",
    "A goal, therefore, has both cognitive/identifying and motivational/consummatory properties. \n",
    "* Its cognitive properties distinguish it from other places, times, or combinations of stimuli that may have the same motivational properties (we will refer to each specific set of such cognitive properties as a “situation”)."
   ]
  },
  {
   "cell_type": "markdown",
   "metadata": {},
   "source": [
    "Importantly, neither the “situation” nor the “motivation” by themselves will generate goal-directed behavior. <font color=\"red\">It is their compound “goal representation” that does so</font>."
   ]
  },
  {
   "cell_type": "markdown",
   "metadata": {},
   "source": [
    "<img src=\"figures/cap2.2.png\" width=600 />"
   ]
  },
  {
   "cell_type": "markdown",
   "metadata": {},
   "source": [
    "With several examples of the same situation and with an animal starting in different positions, we can determine the nature of the controlling goal from the set of trajectories. \n",
    "* If they diverge from a point (as in Figure 2, top left), then they are controlled \n",
    "    - by a negative goal and \n",
    "* if they converge (top right), then they are controlled \n",
    "    - by a positive goal."
   ]
  },
  {
   "cell_type": "markdown",
   "metadata": {},
   "source": [
    "## 1.2 Valuation versus Motivation"
   ]
  },
  {
   "cell_type": "markdown",
   "metadata": {},
   "source": [
    "The positive or negative nature of a goal is <font color=\"red\">not determined just</font> <font color=\"blue\">by whether the stimulus generating the situation is itself positive or negative</font>."
   ]
  },
  {
   "cell_type": "markdown",
   "metadata": {},
   "source": [
    "The capacity of a single class of motivational stimuli to give rise to opposite goals in different circumstances is most obvious with consummatory stimuli (like food and water) and in economic experiments."
   ]
  },
  {
   "cell_type": "markdown",
   "metadata": {},
   "source": [
    "<img src=\"figures/cap2.3.png\" width=600 />"
   ]
  },
  {
   "cell_type": "markdown",
   "metadata": {},
   "source": [
    "## 1.3 Goal Interactions, Gradients, and Goal Con ict"
   ]
  },
  {
   "cell_type": "markdown",
   "metadata": {},
   "source": [
    "Approach and avoidance behavior are fairly simple to understand when there is only one goal. <font color=\"red\">However, when more than one goal is available</font>, we need to consider the way goal gradients interact and the special effects that occur when goals are in conflict with each other."
   ]
  },
  {
   "cell_type": "markdown",
   "metadata": {},
   "source": [
    "<img src=\"figures/cap2.4.png\" width=600 />"
   ]
  },
  {
   "cell_type": "markdown",
   "metadata": {},
   "source": [
    "## 1.4 Hierarchical Control"
   ]
  },
  {
   "cell_type": "markdown",
   "metadata": {},
   "source": [
    "An important feature of neural systems is that they are hierarchically organized. \n",
    "* Both in terms of evolution and development, neural systems must fulfill preexisting adaptive requirements while adding the machinery for more sophisticated functions. \n",
    "* As a result, higher order circuits are overlaid on lower order ones, and whether behavior is controlled by a quick and dirty, or slow and sophisticated, circuit can depend on time pressure."
   ]
  },
  {
   "cell_type": "markdown",
   "metadata": {},
   "source": [
    "<img src=\"figures/cap2.5.png\" width=600 />"
   ]
  },
  {
   "cell_type": "markdown",
   "metadata": {},
   "source": [
    "<img src=\"figures/cap2.6.png\" width=600 />"
   ]
  },
  {
   "cell_type": "markdown",
   "metadata": {},
   "source": [
    "<img src=\"figures/cap2.7.png\" width=600 />"
   ]
  },
  {
   "cell_type": "markdown",
   "metadata": {},
   "source": [
    "## 1.5 From System Architecture to Neuroimaging"
   ]
  },
  {
   "cell_type": "markdown",
   "metadata": {
    "collapsed": true
   },
   "source": [
    "<img src=\"figures/cap2.8.png\" width=600 />"
   ]
  },
  {
   "cell_type": "markdown",
   "metadata": {},
   "source": [
    "# 2. State Neuroimaging of Approach, Avoidance, and Goal Conflict\n",
    "* 2.1 State Neuroimaging of Approach/Reward\n",
    "* 2.2 State Neuroimaging of Avoidance/Punishment\n",
    "* 2.3 State Neuroimaging of Goal Conflict\n",
    "* 2.4 \"A Link between the Systems\"—State Neuroimaging of the Insula"
   ]
  },
  {
   "cell_type": "markdown",
   "metadata": {},
   "source": [
    "Human imaging has not generally focused on approach or avoidance behavior as such. It has more often focused on “reward” or “punishment,” which usually blend valuation and learning with approach or avoidance behavior. Human imaging has also seldom combined both negative and positive events with both negative and positive response contingencies."
   ]
  },
  {
   "cell_type": "markdown",
   "metadata": {},
   "source": [
    "## 2.1 State Neuroimaging of Approach/Reward"
   ]
  },
  {
   "cell_type": "markdown",
   "metadata": {},
   "source": [
    "## 2.2 State Neuroimaging of Avoidance/Punishment"
   ]
  },
  {
   "cell_type": "markdown",
   "metadata": {},
   "source": [
    "## 2.3 State Neuroimaging of Goal Conflict"
   ]
  },
  {
   "cell_type": "markdown",
   "metadata": {},
   "source": [
    "## 2.4 \"A Link between the Systems\"—State Neuroimaging of the Insula"
   ]
  },
  {
   "cell_type": "markdown",
   "metadata": {},
   "source": [
    "# 3 Trait Neuroimaging of Approach, Avoidance, and Goal Conflict\n",
    "* 3.1 Neuroimaging and Approach Traits\n",
    "* 3.2 Neuroimaging and Avoidance and Goal Conflict Traits\n",
    "* 3.3 Future Directions for Trait Research"
   ]
  },
  {
   "cell_type": "markdown",
   "metadata": {},
   "source": [
    "## 3.1 Neuroimaging and Approach Traits"
   ]
  },
  {
   "cell_type": "markdown",
   "metadata": {},
   "source": [
    "## 3.2 Neuroimaging and Avoidance and Goal Conflict Traits"
   ]
  },
  {
   "cell_type": "markdown",
   "metadata": {},
   "source": [
    "## 3.3 Future Directions for Trait Research"
   ]
  },
  {
   "cell_type": "markdown",
   "metadata": {},
   "source": [
    "# 4. From Basics to States and Traits: Assessing Approach, Avoidance, and Goal Conflict"
   ]
  },
  {
   "cell_type": "markdown",
   "metadata": {
    "collapsed": true
   },
   "source": [
    "# 참고자료\n",
    "* [1] Neuroimaging Personality, Social Cognition, and Character - https://www.amazon.com/Neuroimaging-Personality-Social-Cognition-Character/dp/0128009357"
   ]
  }
 ],
 "metadata": {
  "kernelspec": {
   "display_name": "Python 3",
   "language": "python",
   "name": "python3"
  },
  "language_info": {
   "codemirror_mode": {
    "name": "ipython",
    "version": 3
   },
   "file_extension": ".py",
   "mimetype": "text/x-python",
   "name": "python",
   "nbconvert_exporter": "python",
   "pygments_lexer": "ipython3",
   "version": "3.6.8"
  }
 },
 "nbformat": 4,
 "nbformat_minor": 1
}
