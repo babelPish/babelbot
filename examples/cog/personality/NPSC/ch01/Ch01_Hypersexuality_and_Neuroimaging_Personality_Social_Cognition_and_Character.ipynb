{
 "cells": [
  {
   "cell_type": "markdown",
   "metadata": {},
   "source": [
    "# Chapter 1. Hypersexuality and Neuroimaging Personality, Social Cognition, and Character"
   ]
  },
  {
   "cell_type": "markdown",
   "metadata": {},
   "source": [
    "* 싸이그래머X바벨피쉬 / 바벨봇 - 성격심리학 [1]\n",
    "* 김무성    "
   ]
  },
  {
   "cell_type": "markdown",
   "metadata": {},
   "source": [
    "# Contents \n",
    "1. Introductory Questions and Definitions\n",
    "    - 1.1 Questions\n",
    "    - 1.2 Definitions\n",
    "    - 1.3 Definition of Hypersexuality and Rationale for Inclusion \n",
    "    - 1.4 Hypothetical Hypersexuality Scenario\n",
    "2. Hypersexuality without and with Structural Brain Lesions    \n",
    "    - 2.1 PSCC in Non-Brain-Lesion HS Subjects\n",
    "    - 2.2 Brain Lesions and Hypersexuality\n",
    "        - 2.2.1 Frontal Lobes\n",
    "        - 2.2.2 Temporal Lobes \n",
    "        - 2.2.3 Other Brain Areas\n",
    "3. The Many Challenges of NPSCC with Hypersexuality as an Example \n",
    "    - 3.1 The Lesion Method\n",
    "    - 3.2 Newer Imaging Techniques\n",
    "4. Summary"
   ]
  },
  {
   "cell_type": "markdown",
   "metadata": {},
   "source": [
    "# 1. Introductory Questions and Definitions\n",
    "* 1.1 Questions\n",
    "* 1.2 Definitions\n",
    "* 1.3 Definition of Hypersexuality and Rationale for Inclusion \n",
    "* 1.4 Hypothetical Hypersexuality Scenario"
   ]
  },
  {
   "cell_type": "markdown",
   "metadata": {},
   "source": [
    "## 1.1 Questions"
   ]
  },
  {
   "cell_type": "markdown",
   "metadata": {},
   "source": [
    "#### 참고\n",
    "* [2] “뇌영상 분석 기법에 심각한 오류 가능성” 논문 파장 - http://scienceon.hani.co.kr/414365\n",
    "* [3] fMRI 뇌영상 연구, 위양성 결과 나오기 쉬운 이유- http://www.ibric.org/myboard/read.php?Board=news&id=274103&Page=1&SOURCE=6"
   ]
  },
  {
   "cell_type": "markdown",
   "metadata": {},
   "source": [
    "<font color=\"red\">Can neuroimaging improve our understanding of personality, social cognition, and character (NPSCC)?</font>"
   ]
  },
  {
   "cell_type": "markdown",
   "metadata": {},
   "source": [
    "This introductory chapter is focused on several specific aims:\n",
    "1. To define some of the key NPSCC terms used throughout this volume\n",
    "2. To provide a brief overview of hypersexuality as a structure within which major NPSCC themes are presented (as an exemplar of NPSCC research), because\n",
    "    - a. Personality, social cognition, and character (PSCC) all impact hypersexuality\n",
    "    - b. Brain lesions that produce hypersexuality may also influence PSCC\n",
    "    - c. The brain networks and structures implicated in hypersexuality are involved in many aspects of PSCC\n",
    "    - d. The complexities of hypersexuality research mirror those encountered in other aspects of NPSCC\n",
    "3. To introduce the limitations of narrow localizationism and present the three most important, overlapping, integrated, and complementary brain networks related to hypersexuality\n",
    "4. To summarize the structural and functional imaging approaches to NPSCC, focusing on contributions from lesion studies of hypersexuality to provide a historical backdrop for NPSCC\n",
    "5. To summarize some of the complexities and challenges specific to neuroimaging\n",
    "6. To revisit hypersexuality in the closing section and recapitulate relevant findings from the literature that directly relate to PSCC themes, some of which are developed in great detail in this volume"
   ]
  },
  {
   "cell_type": "markdown",
   "metadata": {},
   "source": [
    "## 1.2 Definitions"
   ]
  },
  {
   "cell_type": "markdown",
   "metadata": {},
   "source": [
    "#### 참고\n",
    "* [4] Neuroimaging Lecture - http://www.slideshare.net/tvelkov/neuroimaging-lecture"
   ]
  },
  {
   "cell_type": "markdown",
   "metadata": {},
   "source": [
    "#### Neuroimaging\n",
    "* Structural neuroimaging\n",
    "    - Cranial computerized tomography (CT)\n",
    "    - magnetic resonance imaging (MRI) \n",
    "    - Voxel-based morphometry (VBM)\n",
    "    - Diffusion tensor imaging (DTI)\n",
    "    - Diffusion spectrum imaging (DSI)\n",
    "* Functional neuroimaging\n",
    "    - Electroencephalography (EEG)\n",
    "    - magnetoencephalography (MEG)\n",
    "    - evoked potentials (EP)\n",
    "    - Single photon emission computed tomography (SPECT), \n",
    "    - positron emission tomography (PET), \n",
    "    - functional MRI (fMRI)\n",
    "    - functional near infrared spectroscopy (fNIRS)\n",
    "* Optogenetics\n",
    "* transcranial direct current stimulation (tDCS)\n",
    "* transcranial magnetic stimulation (TMS)\n",
    "* human intracranial electrophysiology (HIE)"
   ]
  },
  {
   "cell_type": "markdown",
   "metadata": {},
   "source": [
    "#### 참고\n",
    "* [5] PERSONALITY : What Makes you “YOU”? Central Concepts of Personality - http://personal-pages.lvc.edu/kitchens/file.axd?file=2012%2F5%2FPersonality+Traits_sn.ppt\n",
    "* [6] Personality Neuroscience - https://prezi.com/uukye0y3w2pa/personality-neuroscience/\n",
    "* [7] Biological basis of personality - https://en.wikipedia.org/wiki/Biological_basis_of_personality"
   ]
  },
  {
   "cell_type": "markdown",
   "metadata": {},
   "source": [
    "#### Personality\n",
    "* Personality has been defined as \n",
    "    - “an individual’s unique variation \n",
    "        - on the general evolutionary design for human nature, \n",
    "    - expressed as a developing pattern of dispositional traits,\n",
    "    - characteristic adaptations, and \n",
    "    - integrative life stories, \n",
    "    - complexly and differentially situated in culture.”\n",
    "* Statistical analyses of personality traits support \n",
    "    - “a hierarchical model of traits \n",
    "    - based on the Big Five dimensions: \n",
    "        - extraversion, \n",
    "        - neuroticism, \n",
    "        - agreeableness, \n",
    "        - conscientiousness, and \n",
    "        - openness/intellect.”\n",
    "* Big Five model\n",
    "    - Three of these Big Five dimensions \n",
    "        - (neuroticism, \n",
    "        - agreeableness, and \n",
    "        - conscientiousness) are \n",
    "        - encompassed by the “metatrait,” stability, and \n",
    "    - the other two \n",
    "        - (extraversion and \n",
    "        - openness/intellect) \n",
    "        - by the metatrait, plasticity.\n",
    "    - There are \n",
    "        - several aspects of each Big Five dimension, and \n",
    "        - many facets of each aspect.\n",
    "* A major challenge of personality neuroscience is to relate all of \n",
    "    - these facets, aspects, dimensions, and metatraits to specific neurobiological processes."
   ]
  },
  {
   "cell_type": "markdown",
   "metadata": {},
   "source": [
    "#### 참고\n",
    "* [10] Social cognition: Perceiving self and others - http://www.slideshare.net/arisudantiwari/social-cognition-perceiving-self-and-others\n",
    "* [11] Theory Of Mind - http://www.slideshare.net/MurftheSurf/theory-of-mind\n",
    "* [12] Theory of Mind - Seminar presentation - http://www.slideshare.net/ashratnam/theory-of-mind-seminar-presentation\n",
    "* [13] Introduction of Cognitive Neuroscience - http://biospin.github.io/neuropy/#!doc/part2/study01/d01.md"
   ]
  },
  {
   "cell_type": "markdown",
   "metadata": {},
   "source": [
    "#### social cognition\n",
    "* social cognition\n",
    "    - The concept of social cognition has recently been defined as follows: “Social cognition is the study of how people make sense of other people and themselves. It focuses on how ordinary people think and feel about people—and how they think they think and feel about people.”\n",
    "* Social neuroscience\n",
    "* Theory of Mind (ToM)\n",
    "* mental state attribution (MSA)\n",
    "* shared representations"
   ]
  },
  {
   "cell_type": "markdown",
   "metadata": {},
   "source": [
    "#### 참고\n",
    "* [14] Character traits for slideshare - http://www.slideshare.net/kconnolly765/character-traits-for-slideshare"
   ]
  },
  {
   "cell_type": "markdown",
   "metadata": {},
   "source": [
    "#### character traits\n",
    "\n",
    "An attempt to define human character traits is offered by Miller:\n",
    "* “(a) They [character traits] are personality trait dispositions which manifest as beliefs, desires, and/or actions of a certain sort appropriate to that trait, as a result of being stimulated in a way appropriate to that trait.\n",
    "* (b) They are those personality traits for which a person can be appropriately held responsible and/or be normatively assessed.\n",
    "* (c) They are metaphysically grounded in the interrelated mental state dispositions specific to the given trait such that necessarily, if these dispositions obtain in a person, then the character trait disposition obtains as well.\n",
    "* (d) Some of them are virtues and vices, but perhaps there are character traits which are neither virtues nor vices.”\n",
    "\n",
    "#### moral valence\n",
    "* Character traits may have moral valence, such as honest/dishonest and altruistic/selfish. \n",
    "* Other character traits, such as impulsive/reserved, may not necessarily connote moral valence or moral character.\n",
    "\n"
   ]
  },
  {
   "cell_type": "markdown",
   "metadata": {},
   "source": [
    "## 1.3 Definition of Hypersexuality and Rationale for Inclusion "
   ]
  },
  {
   "cell_type": "markdown",
   "metadata": {},
   "source": [
    "As mentioned earlier, hypersexuality is presented in this chapter to illustrate how NPSCC applies to a specific clinical condition. "
   ]
  },
  {
   "cell_type": "markdown",
   "metadata": {},
   "source": [
    "The proposed definition of hypersexuality is offered and then deconstructed to introduce these points, which are elaborated in later sections:\n",
    "\n",
    "* A. A minimum of six months of “recurrent and intense sexual fantasies, sexual urges, or sexual behaviors [FUB] in association with three or more of the following five criteria:\n",
    "    - A1. Time consumed by sexual [FUB] repetitively interferes with other important (nonsexual) goals, activities, and obligations.\n",
    "    - A2. Repetitively engaging in sexual [FUB] in response to dysphoric mood states (e.g., anxiety, depression, boredom, or irritability).\n",
    "    - A3. Repetitively engaging in sexual [FUB] in response to stressful life events.\n",
    "    - A4. Repetitive but unsuccessful efforts to control or significantly reduce these sexual [FUB].\n",
    "    - A5. Repetitively engaging in sexual behaviors while disregarding the risk for physical or emotional harm to self or others.\n",
    "* B. There is clinically significant personal distress\n",
    "or impairment in social, occupational, or other important areas of functioning associated with the frequency and intensity of these sexual [FUB].\n",
    "* C. These sexual [FUB] are not due to the direct physiological effect of an exogenous substance.”"
   ]
  },
  {
   "cell_type": "markdown",
   "metadata": {},
   "source": [
    "## 1.4 Hypothetical Hypersexuality Scenario"
   ]
  },
  {
   "cell_type": "markdown",
   "metadata": {},
   "source": [
    "A brief hypothetical scenario is presented to structure the discussion of hypersexuality and its many analytical complexities. Assume a hypersexual (HS) individual encounters a potential target (T)."
   ]
  },
  {
   "cell_type": "markdown",
   "metadata": {},
   "source": [
    "# 2. Hypersexuality without and with Structural Brain Lesions    \n",
    "* 2.1 PSCC in Non-Brain-Lesion HS Subjects\n",
    "* 2.2 Brain Lesions and Hypersexuality"
   ]
  },
  {
   "cell_type": "markdown",
   "metadata": {},
   "source": [
    "## 2.1 PSCC in Non-Brain-Lesion HS Subjects"
   ]
  },
  {
   "cell_type": "markdown",
   "metadata": {},
   "source": [
    "Aspects of personality, social cognition, and character (PSCC) may malfunction and contribute to hypersexuality. "
   ]
  },
  {
   "cell_type": "markdown",
   "metadata": {},
   "source": [
    "Several studies are informative in this regard.\n",
    "* Reid and colleagues studied 95 men in one study186 and 47 in another study that also involved 31 women,187 using the NEO (Neuroticism, Extraversion and Openness) Per- sonality Inventory–Revised.\n",
    "* The second study compared men and women187 and found these same factors to be important. "
   ]
  },
  {
   "cell_type": "markdown",
   "metadata": {},
   "source": [
    "A primary implication of these studies is the suggestion that hypersexuality in individuals without brain lesions occurs along a continuum; although some facets of neuroticism seem particularly important in itsgenesis, it is likely that non-brain-lesion HS “is usually the result of the additive effect of many small individual influences.”\n",
    "\n",
    "A second important implication of these studies is that they illustrate the difficulty we have defining a clear demarcation for “disorder.”\n",
    "\n",
    "A third important implication of these studies is that they illustrate the difficulty we have defining “dysfunction” in non-lesion-induced hypersexuality"
   ]
  },
  {
   "cell_type": "markdown",
   "metadata": {},
   "source": [
    "## 2.2 Brain Lesions and Hypersexuality\n",
    "* 2.2.1 Frontal Lobes\n",
    "* 2.2.2 Temporal Lobes \n",
    "* 2.2.3 Other Brain Areas"
   ]
  },
  {
   "cell_type": "markdown",
   "metadata": {},
   "source": [
    "Acquired hypersexuality due to brain damage probably differs mechanistically from that seen in non-brain-lesion hypersexuality. "
   ]
  },
  {
   "cell_type": "markdown",
   "metadata": {},
   "source": [
    "#### brain damage\n",
    "That brain damage can lead to dramatic and abrupt alterations in PSCC is hardly a matter of debate.\n",
    "* Phineas Gage"
   ]
  },
  {
   "cell_type": "markdown",
   "metadata": {},
   "source": [
    "#### localizationism\n",
    "Although narrow localizationism led to clinically useful observations, mechanistic understanding continued to challenge behavioral neuroscience.\n",
    "* No longer is it sufficient to attach a particular cognition or behavior to a specific brain area, because more likely than not, other parts of the brain are implicated in the same cognition or behavior."
   ]
  },
  {
   "cell_type": "markdown",
   "metadata": {},
   "source": [
    "#### Network/associationist\n",
    "Network/associationist constructs of brain organization will be relied upon to illustrate aspects of NPSCC that are \n",
    "* pertinent to the study of hypersexuality, referencing later chapters in this volume when possible. It is clear from lesion-induced hypersexuality191 that there are multiple networks involved, including a frontal, temporal, and sub- cortical/limbic network\n",
    "\n",
    "These networks participate in the three classical phases of “the human sexual response cycle as defined by Kaplan... \n",
    "* (1) sexual desire, \n",
    "* (2) excitement, and \n",
    "* (3) orgasm.”"
   ]
  },
  {
   "cell_type": "markdown",
   "metadata": {},
   "source": [
    "## 2.2.1 Frontal Lobes"
   ]
  },
  {
   "cell_type": "markdown",
   "metadata": {},
   "source": [
    "An exhaustive review of frontal lobe lesions and their relation to PSCC is beyond the scope of this chapter. Instead, a focused review of key frontal lobe regions and the dysfunctions related to hypersexuality is presented. This same approach is taken throughout this section on lesion-induced hypersexuality."
   ]
  },
  {
   "cell_type": "markdown",
   "metadata": {},
   "source": [
    "<img src=\"figures/cap1.1.png\" width=600 />"
   ]
  },
  {
   "cell_type": "markdown",
   "metadata": {},
   "source": [
    "#### Dorsolateral prefrontal cortex (dlPFC)"
   ]
  },
  {
   "cell_type": "markdown",
   "metadata": {},
   "source": [
    "Dorsolateral prefrontal cortex (dlPFC) lesions may impair response inhibition, cognitive estimation, executive functions, prosody (specifically, affective expression), and abstract thinking.\n",
    "\n",
    "To the extent that dlPFC lesions impair self-regulatory mechanisms or estimations of the likelihood of reward resulting from hypersexual advances, lesions of the dlPFC could contribute to lesion-induced hypersexuality."
   ]
  },
  {
   "cell_type": "markdown",
   "metadata": {},
   "source": [
    "<img src=\"https://qph.ec.quoracdn.net/main-qimg-38fdc7bb0971c0922881586d94b14b97?convert_to_webp=true\"  />"
   ]
  },
  {
   "cell_type": "markdown",
   "metadata": {},
   "source": [
    "#### Medial prefrontal cortex (mPFC) "
   ]
  },
  {
   "cell_type": "markdown",
   "metadata": {},
   "source": [
    "Medial prefrontal cortex (mPFC) lesions may impair drive, motivation, and level of interest. Manifestations of medial frontal lobe lesions can include apathy, blunted affect, amotivation, and in extreme cases, akinetic mutism."
   ]
  },
  {
   "cell_type": "markdown",
   "metadata": {},
   "source": [
    "<img src=\"http://cdn1.psypost.org/wp-content/uploads/2013/06/Prefrontal-cortex-by-National-Institute-of-Mental-Health.jpg\" />"
   ]
  },
  {
   "cell_type": "markdown",
   "metadata": {},
   "source": [
    "#### anterior cingulate cortex (ACC)"
   ]
  },
  {
   "cell_type": "markdown",
   "metadata": {},
   "source": [
    "More precisely, within mPFC, anterior cingulate cortex (ACC) lesions can cause not only akinetic mutism, but also autonomic dysregulation. The ACC has been related to numerous relevant clinical phenomena, including penile erection, reward systems (e.g., self-stimulation), inappropriate social behavior, disinhibition, compulsive behavior, and hypersexuality.\n",
    "\n",
    "ACC lesions could participate in the genesis of lesion-induced hypersexuality through several of the clinical phenomena noted above (and others), as the ACC serves as an integrative region for many frontal, autonomic, and reg- ulatory functions of the frontal lobe"
   ]
  },
  {
   "cell_type": "markdown",
   "metadata": {},
   "source": [
    "<img src=\"http://www.hindawi.com/journals/ecam/2011/543648.fig.001.jpg\" />"
   ]
  },
  {
   "cell_type": "markdown",
   "metadata": {},
   "source": [
    "#### orbitofrontal cortex (OFC)"
   ]
  },
  {
   "cell_type": "markdown",
   "metadata": {},
   "source": [
    "Damage to the orbitofrontal cortex (OFC) can also lead to disinhibition, antisocial or inappropriate personality, and character changes.\n",
    "\n",
    "Obsessive-compulsive behavior, and Witzelsucht have been linked to damage within the OFC, the uncinate fasciculus, or other fiber tracts interconnecting subcortical nuclei. Impaired judgment and inappropriate risk-taking, as measured by the Iowa Gambling Task, are also associated with OFC lesions.\n",
    "\n",
    "Antisocial personality disorder after left OFC damage has been reported with loss of libido."
   ]
  },
  {
   "cell_type": "markdown",
   "metadata": {},
   "source": [
    "<img src=\"https://upload.wikimedia.org/wikipedia/commons/f/f6/MRI_of_orbitofrontal_cortex.jpg\" width=600 />\n",
    "<img src=\"https://www.psy.ox.ac.uk/images/news/ep-researchers-reveal-dissociable-functions-for-amygdala-and-orbitofrontal-cortex\" width=600 />"
   ]
  },
  {
   "cell_type": "markdown",
   "metadata": {},
   "source": [
    "#### Ventromedial prefrontal cortex (vmPFC)"
   ]
  },
  {
   "cell_type": "markdown",
   "metadata": {},
   "source": [
    "Ventromedial prefrontal cortex (vmPFC) damage is often associated with personality alterations such as antisocial behavior."
   ]
  },
  {
   "cell_type": "markdown",
   "metadata": {},
   "source": [
    "<img src=\"https://upload.wikimedia.org/wikipedia/commons/thumb/c/c8/Ventromedial_prefrontal_cortex.png/250px-Ventromedial_prefrontal_cortex.png\" />"
   ]
  },
  {
   "cell_type": "markdown",
   "metadata": {},
   "source": [
    "##### affective-ToM(Theory of Mind)\n",
    "\n",
    "Affective ToM has also been linked to vmPFC damage.\n",
    "\n",
    "<img src=\"https://www.researchgate.net/profile/Nathalie_Fontaine/publication/51019867/figure/fig6/AS:324988168097796@1454494625201/Fig-1-The-model-of-the-relationship-between-cognitive-ToM-affective-ToM-and-empathy.png\" width=600 />"
   ]
  },
  {
   "cell_type": "markdown",
   "metadata": {},
   "source": [
    "Individuals with vmPFC damage and affective ToM deficits tend to be “particularly impaired on tasks that involve integration of emotion and cognition, such as affective men- tal state attribution.”"
   ]
  },
  {
   "cell_type": "markdown",
   "metadata": {},
   "source": [
    "## 2.2.2 Temporal Lobes "
   ]
  },
  {
   "cell_type": "markdown",
   "metadata": {},
   "source": [
    "Temporal lobe damage may impair auditory and prosodic comprehension, facial recognition and emotional decoding, naming, and verbal fluency, among other things."
   ]
  },
  {
   "cell_type": "markdown",
   "metadata": {},
   "source": [
    "Hypersexuality following temporal lobe damage has been associated with rage, passivity, apathy, indifference, aphasia, and aggression"
   ]
  },
  {
   "cell_type": "markdown",
   "metadata": {},
   "source": [
    "Disorders of social cognition may also result from temporal lobe dysfunction, as discussed in several chapters in this volume."
   ]
  },
  {
   "cell_type": "markdown",
   "metadata": {},
   "source": [
    "<img src=\"figures/cap1.2.png\" width=600 />"
   ]
  },
  {
   "cell_type": "markdown",
   "metadata": {},
   "source": [
    "#### Kluver-Bucy syndrome (KBS)\n",
    "\n",
    "Kluver-Bucy syndrome (KBS; visual agnosia, hyperoral- ity (such as excessive eating or mouthing of nonfood objects), hypermetamorphosis (“an irresistible impulse to touch, loss of normal anger, and fear responses”)) are often evident.\n",
    "\n",
    "Bilateral temporal lobe destruction, including the amygdala, has long been recognized to reduce sexual inhibitions and provoke hypersexuality. The KBS is perhaps the most extensively studied acquired human hypersexuality syndrome. "
   ]
  },
  {
   "cell_type": "markdown",
   "metadata": {},
   "source": [
    "<img src=\"http://image.slidesharecdn.com/emotion-100408214354-phpapp02/95/emotion-26-728.jpg?cb=1270763079\" width=600 />"
   ]
  },
  {
   "cell_type": "markdown",
   "metadata": {},
   "source": [
    "#### Left hemisphere lesions"
   ]
  },
  {
   "cell_type": "markdown",
   "metadata": {},
   "source": [
    "Left hemisphere lesions were reported more often in cases of hyposexuality, and both hyper- and hyposexuality were most often related to lesions within the temporal lobe."
   ]
  },
  {
   "cell_type": "markdown",
   "metadata": {},
   "source": [
    "#### hemispheric specialization"
   ]
  },
  {
   "cell_type": "markdown",
   "metadata": {},
   "source": [
    "They propose a hemispheric special- ization for “psychic tone [which] includes motor, moral, emotional, language, and sexual dimensions, and these are reflected in... intellectual representations” through the mechanism of “approach-avoidance disposition."
   ]
  },
  {
   "cell_type": "markdown",
   "metadata": {},
   "source": [
    "#### amygdala"
   ]
  },
  {
   "cell_type": "markdown",
   "metadata": {},
   "source": [
    "The role of the amygdala in hypersexuality may relate to its relationship to emotion, and particularly negative emotion, as negative affect, and emotion is prominent in both lesion-induced and non-lesion-induced SLF is superior longitudinal fasciculus. \n",
    "\n",
    "In patients with hypersexuality following temporal lobectomy, contralesional amygdalar volume correlates with the degree of post-operative hypersexuality."
   ]
  },
  {
   "cell_type": "markdown",
   "metadata": {},
   "source": [
    "<img src=\"https://knowingneurons.files.wordpress.com/2013/02/words-amygdala-small.jpg?w=610\" />"
   ]
  },
  {
   "cell_type": "markdown",
   "metadata": {},
   "source": [
    "Further, isolated lesions of the amygdala, sparing the surrounding temporal lobe, do not reproduce the KBS in monkeys.\n",
    "\n",
    "Recognition of emotional facial expressions, such as fear, involves the amygdala, and the amygdala is highly interconnected to brain areas implicated in hypersexuality, including the septum, basal forebrain, and anterior temporal cortices."
   ]
  },
  {
   "cell_type": "markdown",
   "metadata": {},
   "source": [
    "The amygdala’s well-known contributions to \n",
    "* approach- avoidance,\n",
    "* reward mechanisms, and emotional salience detection \n",
    "* could also partly explain its importance in lesion-induced SLF is superior longitudinal fasciculus."
   ]
  },
  {
   "cell_type": "markdown",
   "metadata": {},
   "source": [
    "## 2.2.3 Other Brain Areas"
   ]
  },
  {
   "cell_type": "markdown",
   "metadata": {},
   "source": [
    "Several reviews of sexual psychobiology have been published. According to one account, there are three subcortical and three cortical structures primarily involved in the human sexual response: \n",
    "\n",
    "three subcortical\n",
    "* the septal area, \n",
    "* hypothalamus, \n",
    "* the ansa lenticularis and pallidum, \n",
    "\n",
    "three cortical structures\n",
    "* the frontal lobes, \n",
    "* the parietal lobes, and \n",
    "* the temporal lobes.\n",
    "\n",
    "The frontal and temporal lobe contributions are highlighted above. The remaining areas are discussed in this section."
   ]
  },
  {
   "cell_type": "markdown",
   "metadata": {},
   "source": [
    "<img src=\"figures/cap1.3.png\" width=600 />"
   ]
  },
  {
   "cell_type": "markdown",
   "metadata": {},
   "source": [
    "#### hypothalamus"
   ]
  },
  {
   "cell_type": "markdown",
   "metadata": {},
   "source": [
    "The hypothalamus is thought to relate to the neuroendocrine and autonomic aspects of sexual function. Klein Levin syndrome is a rare disorder related to hypothalamic damage, characterized by hypersomnolence, hyperphagia, and hypersexuality"
   ]
  },
  {
   "cell_type": "markdown",
   "metadata": {},
   "source": [
    "<img src=\"http://www.upright-health.com/images/Hypothalamus-pituitry2.jpg\" />"
   ]
  },
  {
   "cell_type": "markdown",
   "metadata": {},
   "source": [
    "#### medial thalamus"
   ]
  },
  {
   "cell_type": "markdown",
   "metadata": {},
   "source": [
    "The medial thalamus is in close anatomical proximity to the hypothalamus and has also been implicated in hypersexuality."
   ]
  },
  {
   "cell_type": "markdown",
   "metadata": {},
   "source": [
    "<img src=\"http://vignette4.wikia.nocookie.net/ranzcrpart1/images/8/8f/Parts-of-the-brain-thalamus.jpg/revision/latest?cb=20150526222955\" />"
   ]
  },
  {
   "cell_type": "markdown",
   "metadata": {},
   "source": [
    "#### subthalamic nucleus (STN)"
   ]
  },
  {
   "cell_type": "markdown",
   "metadata": {},
   "source": [
    "In one case of stroke-related hypersexuality, functional neuroimaging demonstrated abnormal frontal, temporal, and parietal lobe glucose metabolism following damage to the subthalamic nucleus (STN)."
   ]
  },
  {
   "cell_type": "markdown",
   "metadata": {},
   "source": [
    "<img src=\"http://america.pink/images/4/2/0/6/6/5/0/en/1-subthalamic-nucleus.jpg\" />"
   ]
  },
  {
   "cell_type": "markdown",
   "metadata": {},
   "source": [
    "#### medial forebrain bundle (MFB)"
   ]
  },
  {
   "cell_type": "markdown",
   "metadata": {},
   "source": [
    "Absher et al. specu- late that damage to the medial forebrain bundle (MFB) may contribute to the lesion-induced SLF is superior longitudinal fasciculus in this case and also may contribute to some of the functional manifestations that were observed on PET"
   ]
  },
  {
   "cell_type": "markdown",
   "metadata": {},
   "source": [
    "<img src=\"http://mybrainnotes.com/medial-forebrain-bundle.jpg\" />\n",
    "<img src=\"http://www.endotext.org/wp-content/uploads/neuroendo/3b/figure21a.jpg\" />\n",
    "<img src=\"http://www.harley.com/island-syndrome/images/pleasure-center.jpg\" />"
   ]
  },
  {
   "cell_type": "markdown",
   "metadata": {},
   "source": [
    "many aspects of PSCC, including impulsivity, emotional regulation, inhibitory mechanisms, theory of mind, moral decision making, etc. \n",
    "\n",
    "In our efforts to understand complex human behaviors such as hypersexuality, it is tempting to revert to narrow localizationism to simplify the task. \n",
    "\n",
    "For example, the septum does orgasm, the hypothalamus does “drive,” and the amygdala does the emotion piece. \n",
    "* The purpose of the foregoing discussion was to introduce the absurdity of such narrow localizationism and introduce the three overlapping, integrated, and complementary brain networks,\n",
    "* which are likely important in hypersexuality. Lesion studies can help define these networks and refine the role of each network in the integration of bottom-up, top-down, and regulatory/modulatory influences on behavior."
   ]
  },
  {
   "cell_type": "markdown",
   "metadata": {},
   "source": [
    "# 3. The Many Challenges of NPSCC with Hypersexuality as an Example \n",
    "* 3.1 The Lesion Method\n",
    "* 3.2 Newer Imaging Techniques"
   ]
  },
  {
   "cell_type": "markdown",
   "metadata": {},
   "source": [
    "## 3.1 The Lesion Method"
   ]
  },
  {
   "cell_type": "markdown",
   "metadata": {},
   "source": [
    "## 3.2 Newer Imaging Techniques"
   ]
  },
  {
   "cell_type": "markdown",
   "metadata": {},
   "source": [
    "# 4. Summary"
   ]
  },
  {
   "cell_type": "markdown",
   "metadata": {},
   "source": [
    "# 참고자료"
   ]
  },
  {
   "cell_type": "markdown",
   "metadata": {},
   "source": [
    "* [1] Neuroimaging Personality, Social Cognition, and Character - https://www.amazon.com/Neuroimaging-Personality-Social-Cognition-Character/dp/0128009357 \n",
    "* [2] “뇌영상 분석 기법에 심각한 오류 가능성” 논문 파장 - http://scienceon.hani.co.kr/414365\n",
    "* [3] fMRI 뇌영상 연구, 위양성 결과 나오기 쉬운 이유- http://www.ibric.org/myboard/read.php?Board=news&id=274103&Page=1&SOURCE=6\n",
    "* [4] Neuroimaging Lecture - http://www.slideshare.net/tvelkov/neuroimaging-lecture\n",
    "* [5] PERSONALITY : What Makes you “YOU”? Central Concepts of Personality - http://personal-pages.lvc.edu/kitchens/file.axd?file=2012%2F5%2FPersonality+Traits_sn.ppt\n",
    "* [6] Personality Neuroscience - https://prezi.com/uukye0y3w2pa/personality-neuroscience/\n",
    "* [7] Biological basis of personality - https://en.wikipedia.org/wiki/Biological_basis_of_personality\n",
    "* [8] 성격심리학 / 영남대 - http://www.kocw.net/home/search/kemView.do?kemId=437176\n",
    "* [9] 성격심리학 / 중앙대 - http://www.kocw.net/home/search/kemView.do?kemId=1045935\n",
    "* [10] Social cognition: Perceiving self and others\n",
    " - http://www.slideshare.net/arisudantiwari/social-cognition-perceiving-self-and-others\n",
    "* [11] Theory Of Mind - http://www.slideshare.net/MurftheSurf/theory-of-mind\n",
    "* [12] Theory of Mind - Seminar presentation - http://www.slideshare.net/ashratnam/theory-of-mind-seminar-presentation\n",
    "* [13] Introduction of Cognitive Neuroscience - http://biospin.github.io/neuropy/#!doc/part2/study01/d01.md\n",
    "* [14] Character traits for slideshare - http://www.slideshare.net/kconnolly765/character-traits-for-slideshare"
   ]
  }
 ],
 "metadata": {
  "kernelspec": {
   "display_name": "Python 3",
   "language": "python",
   "name": "python3"
  },
  "language_info": {
   "codemirror_mode": {
    "name": "ipython",
    "version": 3
   },
   "file_extension": ".py",
   "mimetype": "text/x-python",
   "name": "python",
   "nbconvert_exporter": "python",
   "pygments_lexer": "ipython3",
   "version": "3.6.8"
  }
 },
 "nbformat": 4,
 "nbformat_minor": 1
}
